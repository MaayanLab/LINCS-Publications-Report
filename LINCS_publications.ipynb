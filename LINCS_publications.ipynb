{
 "cells": [
  {
   "cell_type": "markdown",
   "metadata": {},
   "source": [
    "# LINCS Publications & Citations Report"
   ]
  },
  {
   "cell_type": "markdown",
   "metadata": {},
   "source": [
    "*Created by Brian M. Schilder, Moshe Silverstein, and Alexandra Keenan on 09/22/2018.*"
   ]
  },
  {
   "cell_type": "code",
   "execution_count": 38,
   "metadata": {
    "collapsed": false
   },
   "outputs": [
    {
     "name": "stdout",
     "output_type": "stream",
     "text": [
      "3.6.5 (v3.6.5:f59c0932b4, Mar 28 2018, 03:03:55) \n[GCC 4.2.1 (Apple Inc. build 5666) (dot 3)]\n"
     ]
    }
   ],
   "source": [
    "%matplotlib inline\n",
    "\n",
    "import sys\n",
    "print (sys.version)\n",
    "# token: 428145730f2d00b0596bd2521918df095fc272a23500acb4\n",
    "import os\n",
    "os.getcwd()\n",
    "os.chdir('../LINCS-Publications-Report')"
   ]
  },
  {
   "cell_type": "markdown",
   "metadata": {},
   "source": [
    "## Summary\n",
    "- Plots:\n",
    "\t- Publications over time\n",
    "\t- Citations over time\n",
    "\n",
    "\n",
    "- Repeat these plots for each of the following groupings:\n",
    "\t- Aggregated across internal LINCS centers\n",
    "\n",
    "\t- Divided amongst internal LINCS centers (label by center, not PI)\n",
    "\t\t1. Data Coordination and Integration Center (Mount Sinai, Avi Ma’ayan)\n",
    "\t\t2. Drug Toxicity Signature Generation Center (Mount Sinai, Ravi Iyengar)\n",
    "\t\t3. LINCS Proteomic Characterization Center for Signaling and Epigenetics (Broad Institute, Jacob Jaffe)\n",
    "\t\t4. Microenvironment Perturbagen (MEP) LINCS Center (Oregon Health & Science University, Joe Gray)\n",
    "\t\t5.\tHMS LINCS Center (Peter Sorger)\n",
    "\t\t6.\tLINCS Center for Transcriptomics (Broad Institute, Todd Golub)\n",
    "\t\t7.\tNeuroLINCS Center  (UC-Irvine, Leslie Thompson)\n",
    "\t- Across all groups external to LINCS (E.g. papers that used L1000, Canvas Browser).; "
   ]
  },
  {
   "cell_type": "markdown",
   "metadata": {},
   "source": [
    "### Import Data"
   ]
  },
  {
   "cell_type": "code",
   "execution_count": 39,
   "metadata": {},
   "outputs": [],
   "source": [
    "import pandas as pd\n",
    "import seaborn as sn\n",
    "import matplotlib.pyplot as plt\n",
    "sn.set_style('whitegrid')\n",
    "sn.set(font_scale=1.5) \n",
    "# Author info from LINCS database (collected \n",
    "authors = pd.read_table('authors.tsv')\n",
    "authors.rename(columns={'id':'author_id'}, inplace=True)\n",
    "\n",
    "authors_pubs = pd.read_table('authors_publications.tsv')\n",
    "authorKey = authors.merge(authors_pubs, on='author_id')\n",
    "\n",
    "\n",
    "# Publications (internal and external to the LINCS centers)\n",
    "# Collected by Moshe Silverstein\n",
    "## had to manually correct a couple errors in file\n",
    "pubs = pd.read_table('publications.tsv') \n",
    "pubs.dropna(subset=['id'], inplace=True)\n",
    "pubs.rename(columns={'id':'publication_id'}, inplace=True)  \n",
    "pubs['publication_id'] = pubs.loc[:,'publication_id'].astype(int) \n",
    "# Get authors and concatenate\n",
    "pubs_tmp = pubs.merge(authorKey, on='publication_id')\n",
    "authorsConcat = pubs_tmp.groupby('publication_id')['name'].apply(lambda x: \"%s\" % ', '.join(x)).reset_index()\n",
    "authorsConcat.rename(columns={'name':'authors'}, inplace=True) \n",
    "pubs = pubs.merge(authorsConcat, on='publication_id').drop_duplicates()  \n",
    "pubs.columns\n",
    "# Additional publications (internal and external to the LINCS centers)\n",
    "#  collected by Alexandra Keenan\n",
    "pubs2 = pd.read_csv('additional_pubs.csv')\n",
    "\n",
    "def externalInternal(val):\n",
    "    if val == 'outside':\n",
    "        return 0\n",
    "    else:\n",
    "        return 1\n",
    "pubs2['center_pub'] = pubs2['center'].apply(externalInternal)\n",
    "pubs2 = pubs2.rename(columns={'PMID':'pm_id', 'year':'year_published', 'title':'article_name'})\n",
    "pubs2['publication_id'] = max(pubs['publication_id'].astype(int)) \n",
    "pubs_extended = pd.concat([pubs, pubs2],axis=0,  ignore_index=True) \n"
   ]
  },
  {
   "cell_type": "markdown",
   "metadata": {},
   "source": [
    "## Get Citations from PubMed API\n",
    "Documentation: \n",
    "- https://www.ncbi.nlm.nih.gov/pmc/tools/cites-citedby/\n",
    "- https://www.ncbi.nlm.nih.gov/books/NBK25497/\n",
    "\n",
    "Note: To use the API you must first register your tool and email with NCBI by emailing eutilities@ncbi.nlm.nih.gov;"
   ]
  },
  {
   "cell_type": "code",
   "execution_count": 40,
   "metadata": {},
   "outputs": [
    {
     "name": "stdout",
     "output_type": "stream",
     "text": [
      "Extracting Citations for PMC : 4456804........ 6 citations found\n"
     ]
    },
    {
     "name": "stdout",
     "output_type": "stream",
     "text": [
      "Extracting Citations for PMC : 4243058........ 67 citations found\n"
     ]
    },
    {
     "name": "stdout",
     "output_type": "stream",
     "text": [
      "Extracting Citations for PMC : 4380931........ 18 citations found\n"
     ]
    },
    {
     "name": "stdout",
     "output_type": "stream",
     "text": [
      "Extracting Citations for PMC : 4270428........ 4 citations found\n"
     ]
    },
    {
     "name": "stdout",
     "output_type": "stream",
     "text": [
      "Extracting Citations for PMC : 4383998........ 291 citations found\n"
     ]
    },
    {
     "name": "stdout",
     "output_type": "stream",
     "text": [
      "Extracting Citations for PMC : 4607730........ 8 citations found\n"
     ]
    },
    {
     "name": "stdout",
     "output_type": "stream",
     "text": [
      "Extracting Citations for PMC : 4201337........ 27 citations found\n"
     ]
    },
    {
     "name": "stdout",
     "output_type": "stream",
     "text": [
      "Extracting Citations for PMC : 4221125........ 3 citations found\nExtracting Citations for PMC : 4274604........ None found\n"
     ]
    },
    {
     "name": "stdout",
     "output_type": "stream",
     "text": [
      "Extracting Citations for PMC : 4179751........ 19 citations found\n"
     ]
    },
    {
     "name": "stdout",
     "output_type": "stream",
     "text": [
      "Extracting Citations for PMC : 4156235........ 46 citations found\n"
     ]
    },
    {
     "name": "stdout",
     "output_type": "stream",
     "text": [
      "Extracting Citations for PMC : 4153537........ 21 citations found\n"
     ]
    },
    {
     "name": "stdout",
     "output_type": "stream",
     "text": [
      "Extracting Citations for PMC : 4137659........ 4 citations found\n"
     ]
    },
    {
     "name": "stdout",
     "output_type": "stream",
     "text": [
      "Extracting Citations for PMC : 4086130........ 63 citations found\n"
     ]
    },
    {
     "name": "stdout",
     "output_type": "stream",
     "text": [
      "Extracting Citations for PMC : 4108877........ 23 citations found\n"
     ]
    },
    {
     "name": "stdout",
     "output_type": "stream",
     "text": [
      "Extracting Citations for PMC : 3990667........ 3 citations found\n"
     ]
    },
    {
     "name": "stdout",
     "output_type": "stream",
     "text": [
      "Extracting Citations for PMC : 4234128........ 16 citations found\n"
     ]
    },
    {
     "name": "stdout",
     "output_type": "stream",
     "text": [
      "Extracting Citations for PMC : 3771683........ 10 citations found\n"
     ]
    },
    {
     "name": "stdout",
     "output_type": "stream",
     "text": [
      "Extracting Citations for PMC : 3637064........ 453 citations found\n"
     ]
    },
    {
     "name": "stdout",
     "output_type": "stream",
     "text": [
      "Extracting Citations for PMC : 3692096........ 9 citations found\n"
     ]
    },
    {
     "name": "stdout",
     "output_type": "stream",
     "text": [
      "Extracting Citations for PMC : 3764016........ 5 citations found\nExtracting Citations for PMC : 3609407........ None found\n"
     ]
    },
    {
     "name": "stdout",
     "output_type": "stream",
     "text": [
      "Extracting Citations for PMC : 3615534........ 9 citations found\n"
     ]
    },
    {
     "name": "stdout",
     "output_type": "stream",
     "text": [
      "Extracting Citations for PMC : 3760004........ 35 citations found\n"
     ]
    },
    {
     "name": "stdout",
     "output_type": "stream",
     "text": [
      "Extracting Citations for PMC : 3947796........ 68 citations found\n"
     ]
    },
    {
     "name": "stdout",
     "output_type": "stream",
     "text": [
      "Extracting Citations for PMC : 4098832........ 123 citations found\n"
     ]
    },
    {
     "name": "stdout",
     "output_type": "stream",
     "text": [
      "Extracting Citations for PMC : 3589817........ 33 citations found\n"
     ]
    },
    {
     "name": "stdout",
     "output_type": "stream",
     "text": [
      "Extracting Citations for PMC : 3845839........ 33 citations found\n"
     ]
    },
    {
     "name": "stdout",
     "output_type": "stream",
     "text": [
      "Extracting Citations for PMC : 3799471........ 39 citations found\n"
     ]
    },
    {
     "name": "stdout",
     "output_type": "stream",
     "text": [
      "Extracting Citations for PMC : 3959726........ 75 citations found\n"
     ]
    },
    {
     "name": "stdout",
     "output_type": "stream",
     "text": [
      "Extracting Citations for PMC : 3569091........ 12 citations found\n"
     ]
    },
    {
     "name": "stdout",
     "output_type": "stream",
     "text": [
      "Extracting Citations for PMC : 3855094........ 9 citations found\n"
     ]
    },
    {
     "name": "stdout",
     "output_type": "stream",
     "text": [
      "Extracting Citations for PMC : 3712222........ 19 citations found\n"
     ]
    },
    {
     "name": "stdout",
     "output_type": "stream",
     "text": [
      "Extracting Citations for PMC : 3783590........ 2 citations found\n"
     ]
    },
    {
     "name": "stdout",
     "output_type": "stream",
     "text": [
      "Extracting Citations for PMC : 3782379........ 3 citations found\n"
     ]
    },
    {
     "name": "stdout",
     "output_type": "stream",
     "text": [
      "Extracting Citations for PMC : 3878311........ 8 citations found\n"
     ]
    },
    {
     "name": "stdout",
     "output_type": "stream",
     "text": [
      "Extracting Citations for PMC : 3349233........ 655 citations found\n"
     ]
    },
    {
     "name": "stdout",
     "output_type": "stream",
     "text": [
      "Extracting Citations for PMC : 3428019........ 93 citations found\n"
     ]
    },
    {
     "name": "stdout",
     "output_type": "stream",
     "text": [
      "Extracting Citations for PMC : 3498356........ 18 citations found\n"
     ]
    },
    {
     "name": "stdout",
     "output_type": "stream",
     "text": [
      "Extracting Citations for PMC : 3270411........ 68 citations found\n"
     ]
    },
    {
     "name": "stdout",
     "output_type": "stream",
     "text": [
      "Extracting Citations for PMC : 3105758........ 25 citations found\n"
     ]
    },
    {
     "name": "stdout",
     "output_type": "stream",
     "text": [
      "Extracting Citations for PMC : 3465072........ 47 citations found\nExtracting Citations for PMC : 4675694........ None found\n"
     ]
    },
    {
     "name": "stdout",
     "output_type": "stream",
     "text": [
      "Extracting Citations for PMC : 4587398........ 29 citations found\n"
     ]
    },
    {
     "name": "stdout",
     "output_type": "stream",
     "text": [
      "Extracting Citations for PMC : 4737646........ 6 citations found\n"
     ]
    },
    {
     "name": "stdout",
     "output_type": "stream",
     "text": [
      "Extracting Citations for PMC : 4657038........ 7 citations found\nExtracting Citations for PMC : 4965338........ None found\n"
     ]
    },
    {
     "name": "stdout",
     "output_type": "stream",
     "text": [
      "Extracting Citations for PMC : 4707261........ 10 citations found\n"
     ]
    },
    {
     "name": "stdout",
     "output_type": "stream",
     "text": [
      "Extracting Citations for PMC : 4858944........ 17 citations found\n"
     ]
    },
    {
     "name": "stdout",
     "output_type": "stream",
     "text": [
      "Extracting Citations for PMC : 4965635........ 10 citations found\n"
     ]
    },
    {
     "name": "stdout",
     "output_type": "stream",
     "text": [
      "Extracting Citations for PMC : 4821530........ 6 citations found\n"
     ]
    },
    {
     "name": "stdout",
     "output_type": "stream",
     "text": [
      "Extracting Citations for PMC : 4461398........ 18 citations found\n"
     ]
    },
    {
     "name": "stdout",
     "output_type": "stream",
     "text": [
      "Extracting Citations for PMC : 3443648........ 8 citations found\n"
     ]
    },
    {
     "name": "stdout",
     "output_type": "stream",
     "text": [
      "Extracting Citations for PMC : 4987924........ 239 citations found\n"
     ]
    },
    {
     "name": "stdout",
     "output_type": "stream",
     "text": [
      "Extracting Citations for PMC : 4887336........ 38 citations found\n"
     ]
    },
    {
     "name": "stdout",
     "output_type": "stream",
     "text": [
      "Extracting Citations for PMC : 4857123........ 4 citations found\n"
     ]
    },
    {
     "name": "stdout",
     "output_type": "stream",
     "text": [
      "Extracting Citations for PMC : 3605723........ 9 citations found\n"
     ]
    },
    {
     "name": "stdout",
     "output_type": "stream",
     "text": [
      "Extracting Citations for PMC : 4784899........ 12 citations found\n"
     ]
    },
    {
     "name": "stdout",
     "output_type": "stream",
     "text": [
      "Extracting Citations for PMC : 4856035........ 4 citations found\nExtracting Citations for PMC : 4016950........ None found\n"
     ]
    },
    {
     "name": "stdout",
     "output_type": "stream",
     "text": [
      "Extracting Citations for PMC : 3667614........ 107 citations found\n"
     ]
    },
    {
     "name": "stdout",
     "output_type": "stream",
     "text": [
      "Extracting Citations for PMC : 3376217........ 6 citations found\n"
     ]
    },
    {
     "name": "stdout",
     "output_type": "stream",
     "text": [
      "Extracting Citations for PMC : 3384541........ 58 citations found\n"
     ]
    },
    {
     "name": "stdout",
     "output_type": "stream",
     "text": [
      "Extracting Citations for PMC : 3322972........ 39 citations found\n"
     ]
    },
    {
     "name": "stdout",
     "output_type": "stream",
     "text": [
      "Extracting Citations for PMC : 3465074........ 7 citations found\n"
     ]
    },
    {
     "name": "stdout",
     "output_type": "stream",
     "text": [
      "Extracting Citations for PMC : 4838263........ 13 citations found\n"
     ]
    },
    {
     "name": "stdout",
     "output_type": "stream",
     "text": [
      "Extracting Citations for PMC : 4930834........ 38 citations found\n"
     ]
    },
    {
     "name": "stdout",
     "output_type": "stream",
     "text": [
      "Extracting Citations for PMC : 5389891........ 18 citations found\n"
     ]
    },
    {
     "name": "stdout",
     "output_type": "stream",
     "text": [
      "Extracting Citations for PMC : 4972086........ 6 citations found\n"
     ]
    },
    {
     "name": "stdout",
     "output_type": "stream",
     "text": [
      "Extracting Citations for PMC : 5003654........ 13 citations found\n"
     ]
    },
    {
     "name": "stdout",
     "output_type": "stream",
     "text": [
      "Extracting Citations for PMC : 496526........ 11 citations found\nExtracting Citations for PMC : 487650........ None found\n"
     ]
    },
    {
     "name": "stdout",
     "output_type": "stream",
     "text": [
      "Extracting Citations for PMC : 485547........ None found\nExtracting Citations for PMC : 490832........ None found\n"
     ]
    },
    {
     "name": "stdout",
     "output_type": "stream",
     "text": [
      "Extracting Citations for PMC : 462586........ 7 citations found\n"
     ]
    },
    {
     "name": "stdout",
     "output_type": "stream",
     "text": [
      "Extracting Citations for PMC : 433301........ 39 citations found\nExtracting Citations for PMC : 410386........ None found\n"
     ]
    },
    {
     "name": "stdout",
     "output_type": "stream",
     "text": [
      "Extracting Citations for PMC : 5001780........ 2 citations found\n"
     ]
    },
    {
     "name": "stdout",
     "output_type": "stream",
     "text": [
      "Extracting Citations for PMC : 5052684........ 16 citations found\nExtracting Citations for PMC : 491686........ None found\nExtracting Citations for PMC : 445744........ None found\n"
     ]
    },
    {
     "name": "stdout",
     "output_type": "stream",
     "text": [
      "Extracting Citations for PMC : 486834........ None found\n"
     ]
    },
    {
     "name": "stdout",
     "output_type": "stream",
     "text": [
      "Extracting Citations for PMC : 5138863........ 45 citations found\n"
     ]
    },
    {
     "name": "stdout",
     "output_type": "stream",
     "text": [
      "Extracting Citations for PMC : 4800742........ 165 citations found\n"
     ]
    },
    {
     "name": "stdout",
     "output_type": "stream",
     "text": [
      "Extracting Citations for PMC : 4976700........ 3 citations found\n"
     ]
    },
    {
     "name": "stdout",
     "output_type": "stream",
     "text": [
      "Extracting Citations for PMC : 4919895........ 2 citations found\n"
     ]
    },
    {
     "name": "stdout",
     "output_type": "stream",
     "text": [
      "Extracting Citations for PMC : 5248573........ 17 citations found\n"
     ]
    },
    {
     "name": "stdout",
     "output_type": "stream",
     "text": [
      "Extracting Citations for PMC : 4829466........ 37 citations found\n"
     ]
    },
    {
     "name": "stdout",
     "output_type": "stream",
     "text": [
      "Extracting Citations for PMC : 4783079........ 6 citations found\nExtracting Citations for PMC : 5349314........ None found\n"
     ]
    },
    {
     "name": "stdout",
     "output_type": "stream",
     "text": [
      "Extracting Citations for PMC : 5332957........ None found\nExtracting Citations for PMC : 5159530........ None found\n"
     ]
    },
    {
     "name": "stdout",
     "output_type": "stream",
     "text": [
      "Extracting Citations for PMC : 5541064........ None found\nExtracting Citations for PMC : 5536358........ None found\nExtracting Citations for PMC : 5599787........ None found\n"
     ]
    },
    {
     "name": "stdout",
     "output_type": "stream",
     "text": [
      "Extracting Citations for PMC : 5543336........ None found\n"
     ]
    },
    {
     "name": "stdout",
     "output_type": "stream",
     "text": [
      "Extracting Citations for PMC : 5193106........ 4 citations found\nExtracting Citations for PMC : 5355998........ None found\n"
     ]
    },
    {
     "name": "stdout",
     "output_type": "stream",
     "text": [
      "Extracting Citations for PMC : 5634325........ 3 citations found\nExtracting Citations for PMC : 5632288........ None found\nExtracting Citations for PMC : 5579542........ None found\n"
     ]
    },
    {
     "name": "stdout",
     "output_type": "stream",
     "text": [
      "Extracting Citations for PMC : 5610318........ None found\n"
     ]
    },
    {
     "name": "stdout",
     "output_type": "stream",
     "text": [
      "Extracting Citations for PMC : 5538315........ 6 citations found\nExtracting Citations for PMC : 5287226........ None found\n"
     ]
    },
    {
     "name": "stdout",
     "output_type": "stream",
     "text": [
      "Extracting Citations for PMC : 5482631........ 2 citations found\nExtracting Citations for PMC : 5493619........ None found\n"
     ]
    },
    {
     "name": "stdout",
     "output_type": "stream",
     "text": [
      "Extracting Citations for PMC : 5662764........ 2 citations found\n"
     ]
    },
    {
     "name": "stdout",
     "output_type": "stream",
     "text": [
      "Extracting Citations for PMC : 5655815........ 3 citations found\nExtracting Citations for PMC : 5674849........ None found\n"
     ]
    },
    {
     "name": "stdout",
     "output_type": "stream",
     "text": [
      "Extracting Citations for PMC : 5827688........ None found\nExtracting Citations for PMC : 5828078........ None found\nExtracting Citations for PMC : 5927625........ None found\n"
     ]
    }
   ],
   "source": [
    "pubmed_url = 'http://eutils.ncbi.nlm.nih.gov/entrez/eutils/elink.fcgi?'+\\\n",
    "             'dbfrom=pubmed&linkname=pmc_pmc_citedby&id='\n",
    "\n",
    "tool = 'MaayanLab'\n",
    "email = 'brian_schilder@alumni.brown.edu' \n",
    "# You can register an API in your NCBI account settings to submit up to 10 requests/second\n",
    "# ,instead of the default 3 requests/second\n",
    "APIkey = 'ff789492667dabdb0c98afa776eb2090cc08'\n",
    "PMClist = pubs_extended['pmc_id'].str.strip('PMC').str.strip(' ').astype(str)\n",
    "PMClist = PMClist[PMClist!='nan']\n",
    "urls = pubmed_url+PMClist +'&tool='+tool+'&email='+email+'&api_key='+APIkey\n",
    "url=urls[0]\n",
    "\n",
    "from requests import get\n",
    "import xmltodict   \n",
    "import time\n",
    "citations={} \n",
    "def getCitations(url): \n",
    "    PMC = url.split('&id=')[1].split(\"&tool\")[0] \n",
    "    response = get(str(url))\n",
    "    citDict = xmltodict.parse(response.content)\n",
    "    try:\n",
    "        citationInfo = citDict['eLinkResult']['LinkSet']['LinkSetDb']['Link']\n",
    "        allCitations = [x['Id'] for x in citationInfo ] \n",
    "        citations[PMC] = len(set(allCitations)) # Get unique citations\n",
    "        status = str(len(set(allCitations)))+' citations found'\n",
    "        # Can only submit up to 10 requests/second\n",
    "        time.sleep(.11)\n",
    "    except:\n",
    "        citations[PMC] = 0 \n",
    "        status = 'None found'\n",
    "    print(\"Extracting Citations for PMC : \"+PMC+\"........ \"+status)\n",
    "    return citations\n",
    "\n",
    "res = map(getCitations, urls)\n",
    "results = list(res) \n",
    "results_df = pd.DataFrame(pd.Series(results[0],name='n_citations')  )  \n",
    "results_df['pmc_id'] = 'PMC'+results_df.index  \n",
    " "
   ]
  },
  {
   "cell_type": "markdown",
   "metadata": {},
   "source": [
    "### Assign Centers"
   ]
  },
  {
   "cell_type": "code",
   "execution_count": 41,
   "metadata": {},
   "outputs": [],
   "source": [
    "pubs_extended = pubs_extended.merge(results_df, on='pmc_id')  \n",
    "\n",
    "\n",
    "Centers = {\"DCIC\":{\"PI_list\":[\"Ma'ayan\",\"Medvedovic\",\"Schurer\",\"Vidovic\",\"Stathias\",\"Pilarczyk\",\"Jagodnik\"],'isIncluded':[]},\n",
    "       \"Drug Toxicity\":{\"PI_list\":[\"Iyengar\",\"Birtwistle\",\"Sobie\"],'isIncluded':[]},\n",
    "       \"Proteomics\":{\"PI_list\":[\"Jaffe\",\"Subramanian\"],'isIncluded':[]},\n",
    "       \"Microenvironment\":{\"PI_list\":[\"Gray\",\"Heiser\",\"Korkola\",\"Mills\"],'isIncluded':[]},\n",
    "        \"HMS\":{\"PI_list\":[\"Sorger\"],'isIncluded':[]},\n",
    "        \"Transcriptomics\":{\"PI_list\":[\"Golub\"],'isIncluded':[]},\n",
    "       \"NeuroLINCS\":{\"PI_list\":[\"Thompson\",\"Finkbeiner\",\"Fraenkel\",\"Rothstein\",\"Svendsen\"],'isIncluded':[]}\n",
    "       }\n",
    "# Check authors in each publication for people affiliated with each center\n",
    "for i,row in pubs_extended.iterrows(): \n",
    "    for center in Centers: \n",
    "        PI_list = Centers[center]['PI_list']\n",
    "        author_list = row.loc['authors'].split(\",\")  \n",
    "        author_list = [x.strip(' ').split(' ')[0] for x in author_list] \n",
    "        overlap = set(PI_list).intersection(author_list)\n",
    "        if len(overlap)>=1:\n",
    "            Centers[center]['isIncluded'] += [1]\n",
    "        else:\n",
    "            Centers[center]['isIncluded'] += [0]\n",
    "for center in Centers:\n",
    "    pubs_extended[center] = Centers[center]['isIncluded']\n",
    "\n",
    "# Save combine table\n",
    "pubs_extended.sort_values(['center_pub','year_published'], ascending=[False, True], inplace=True)\n",
    "pubs_extended.to_csv('publications_extended.csv',index=False)\n",
    " #Sch√ºrer SC\n",
    "\n",
    "internal = pubs_extended.loc[pubs_extended['center_pub']==1,:]\n",
    "external = pubs_extended.loc[pubs_extended['center_pub']==0,:]  \n"
   ]
  },
  {
   "cell_type": "markdown",
   "metadata": {},
   "source": [
    "## Internal LINCS Publications"
   ]
  },
  {
   "cell_type": "markdown",
   "metadata": {},
   "source": [
    "### Aggregated Across Centers"
   ]
  },
  {
   "cell_type": "code",
   "execution_count": 42,
   "metadata": {},
   "outputs": [
    {
     "data": {
      "image/png": "[encoded data removed]",
      "text/plain": [
       "<Figure size 648x504 with 1 Axes>"
      ]
     },
     "metadata": {},
     "output_type": "display_data"
    }
   ],
   "source": [
    "plt.figure(figsize=(9,7)) # Default 8,6 #, dpi=100\n",
    "years = internal.dropna(subset=['year_published'])['year_published'].astype(int)\n",
    "years = years[years>1]\n",
    "sn.countplot( years, color='steelblue')\n",
    "plt.title('Internal LINCS Publications : All Centers\\n Total Publications = '+\n",
    "          str(len( internal )))\n",
    "plt.xlabel('Year')\n",
    "plt.ylabel('Count');\n",
    "# plt.ylim(0,50);"
   ]
  },
  {
   "cell_type": "markdown",
   "metadata": {},
   "source": [
    "### Separated By Center"
   ]
  },
  {
   "cell_type": "code",
   "execution_count": 43,
   "metadata": {},
   "outputs": [
    {
     "data": {
      "image/png": "[encoded data removed]",
      "text/plain": [
       "<Figure size 900x700 with 1 Axes>"
      ]
     },
     "metadata": {},
     "output_type": "display_data"
    }
   ],
   "source": [
    "plt.figure(figsize=(9,7), dpi=100) # Default 8,6 #, dpi=100\n",
    "\n",
    "internalByCenter = {}\n",
    "for center in Centers: \n",
    "    internalByCenter[center] = internal.groupby('year_published')[center].sum()\n",
    "    \n",
    "internalByCenter = pd.DataFrame(internalByCenter).stack().reset_index()\n",
    "internalByCenter.columns = ['year_published', 'Center', 'Count']\n",
    "internalByCenter['year_published'] = internalByCenter['year_published'].astype(int)\n",
    "sn.barplot(data=internalByCenter, x='year_published',y='Count',hue='Center')\n",
    "plt.title('Internal LINCS Publications : Each Center\\nTotal Publications = '\n",
    "          +str(len( internal ) ) )\n",
    "plt.xlabel('Year')\n",
    "plt.ylabel('Count');\n",
    "plt.ylim(0,10);\n"
   ]
  },
  {
   "cell_type": "markdown",
   "metadata": {},
   "source": [
    "## Internal LINCS CITATIONS"
   ]
  },
  {
   "cell_type": "markdown",
   "metadata": {},
   "source": [
    "### Aggregated Across Centers"
   ]
  },
  {
   "cell_type": "code",
   "execution_count": 50,
   "metadata": {},
   "outputs": [
    {
     "name": "stderr",
     "output_type": "stream",
     "text": [
      "/Library/Frameworks/Python.framework/Versions/3.6/lib/python3.6/site-packages/ipykernel_launcher.py:2: SettingWithCopyWarning: \nA value is trying to be set on a copy of a slice from a DataFrame.\nTry using .loc[row_indexer,col_indexer] = value instead\n\nSee the caveats in the documentation: http://pandas.pydata.org/pandas-docs/stable/indexing.html#indexing-view-versus-copy\n  \n"
     ]
    },
    {
     "data": {
      "image/png": "[encoded data removed]",
      "text/plain": [
       "<Figure size 648x504 with 1 Axes>"
      ]
     },
     "metadata": {},
     "output_type": "display_data"
    }
   ],
   "source": [
    "plt.figure(figsize=(9,7)) # Default 8,6 #, dpi=100 \n",
    "internal['year_published'] = internal['year_published'].astype(int)\n",
    "sn.barplot(data=internal, x='year_published', y='n_citations')\n",
    "plt.title('Internal LINCS Publication Citations : All Centers\\n Total Citations = '+\\\n",
    "          str( len(internal ) ))\n",
    "plt.xlabel('Year')\n",
    "plt.ylabel('Count');\n",
    "# plt.ylim(0,50);"
   ]
  },
  {
   "cell_type": "markdown",
   "metadata": {},
   "source": [
    "### Separated By Center"
   ]
  },
  {
   "cell_type": "code",
   "execution_count": 22,
   "metadata": {},
   "outputs": [],
   "source": [
    "plt.figure(figsize=(9,7), dpi=100) # Default 8,6 #, dpi=100\n",
    "\n",
    "internalByCenter = {}\n",
    "for center in Centers: \n",
    "    internalByCenter[center] = internal.groupby('year_published')[center,'n_citations'].sum()\n",
    "    \n",
    "internalByCenter = pd.DataFrame(internalByCenter).stack().reset_index()\n",
    "internalByCenter.columns = ['year_published', 'Center', 'Count']\n",
    "internalByCenter['year_published'] = internalByCenter['year_published'].astype(int)\n",
    "sn.barplot(data=internalByCenter, x='year_published',y='Count',hue='Center')\n",
    "plt.title('Internal LINCS Publications : Each Center\\nTotal Publications = '\n",
    "          +str(len( internal ) ) )\n",
    "plt.xlabel('Year')\n",
    "plt.ylabel('Count');\n",
    "plt.ylim(0,10);"
   ]
  },
  {
   "cell_type": "markdown",
   "metadata": {},
   "source": [
    "## External LINCS Publications"
   ]
  },
  {
   "cell_type": "code",
   "execution_count": 48,
   "metadata": {},
   "outputs": [
    {
     "data": {
      "image/png": "[encoded data removed]",
      "text/plain": [
       "<Figure size 648x504 with 1 Axes>"
      ]
     },
     "metadata": {},
     "output_type": "display_data"
    }
   ],
   "source": [
    "plt.figure(figsize=(9,7)) # Default 8,6 #, dpi=100\n",
    "\n",
    "years = external.dropna(subset=['year_published'])['year_published'].astype(int)\n",
    "years = years[years>1]\n",
    "sn.countplot( years, color='turquoise')\n",
    "plt.title('External LINCS Publications\\n Total Publications = '+str(len(years)))\n",
    "plt.xlabel('Year')\n",
    "plt.ylabel('Count');\n",
    "# plt.ylim(0,50);"
   ]
  },
  {
   "cell_type": "code",
   "execution_count": 23,
   "metadata": {},
   "outputs": [],
   "source": []
  },
  {
   "cell_type": "code",
   "execution_count": 23,
   "metadata": {},
   "outputs": [],
   "source": []
  },
  {
   "cell_type": "code",
   "execution_count": null,
   "metadata": {},
   "outputs": [],
   "source": []
  }
 ],
 "metadata": {},
 "nbformat": 4,
 "nbformat_minor": 0
}
