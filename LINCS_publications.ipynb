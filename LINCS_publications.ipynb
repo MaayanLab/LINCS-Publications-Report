{
 "cells": [
  {
   "cell_type": "markdown",
   "metadata": {},
   "source": [
    "# LINCS Publications & Citations Report"
   ]
  },
  {
   "cell_type": "markdown",
   "metadata": {},
   "source": [
    "*Created by Brian M. Schilder, Moshe Silverstein, and Alexandra Keenan on 09/22/2018.*"
   ]
  },
  {
   "cell_type": "code",
   "execution_count": 3,
   "metadata": {
    "collapsed": false
   },
   "outputs": [
    {
     "name": "stdout",
     "output_type": "stream",
     "text": [
      "3.6.5 (v3.6.5:f59c0932b4, Mar 28 2018, 03:03:55) \n[GCC 4.2.1 (Apple Inc. build 5666) (dot 3)]\n"
     ]
    }
   ],
   "source": [
    "%matplotlib inline\n",
    "\n",
    "import sys\n",
    "print (sys.version)\n",
    "# token: 428145730f2d00b0596bd2521918df095fc272a23500acb4\n",
    "import os\n",
    "os.getcwd()\n",
    "os.chdir('../LINCS-Publications-Report')"
   ]
  },
  {
   "cell_type": "markdown",
   "metadata": {},
   "source": [
    "## Summary\n",
    "- Plots:\n",
    "\t- Publications over time\n",
    "\t- Citations over time\n",
    "\n",
    "\n",
    "- Repeat these plots for each of the following groupings:\n",
    "\t- Aggregated across internal LINCS centers\n",
    "\n",
    "\t- Divided amongst internal LINCS centers (label by center, not PI)\n",
    "\t\t1. Data Coordination and Integration Center (Mount Sinai, Avi Ma’ayan)\n",
    "\t\t2. Drug Toxicity Signature Generation Center (Mount Sinai, Ravi Iyengar)\n",
    "\t\t3. LINCS Proteomic Characterization Center for Signaling and Epigenetics (Broad Institute, Jacob Jaffe)\n",
    "\t\t4. Microenvironment Perturbagen (MEP) LINCS Center (Oregon Health & Science University, Joe Gray)\n",
    "\t\t5.\tHMS LINCS Center (Peter Sorger)\n",
    "\t\t6.\tLINCS Center for Transcriptomics (Broad Institute, Todd Golub)\n",
    "\t\t7.\tNeuroLINCS Center  (UC-Irvine, Leslie Thompson)\n",
    "\t- Across all groups external to LINCS (E.g. papers that used L1000, Canvas Browser).; "
   ]
  },
  {
   "cell_type": "markdown",
   "metadata": {},
   "source": [
    "### Import Data"
   ]
  },
  {
   "cell_type": "code",
   "execution_count": 46,
   "metadata": {},
   "outputs": [],
   "source": [
    "import pandas as pd\n",
    "import seaborn as sn\n",
    "import matplotlib.pyplot as plt\n",
    "import warnings\n",
    "warnings.filterwarnings('ignore')\n",
    "sn.set_style('whitegrid')\n",
    "sn.set(font_scale=1.5) \n",
    "# Author info from LINCS database (collected \n",
    "authors = pd.read_table('authors.tsv')\n",
    "authors.rename(columns={'id':'author_id'}, inplace=True)\n",
    "\n",
    "authors_pubs = pd.read_table('authors_publications.tsv')\n",
    "authorKey = authors.merge(authors_pubs, on='author_id')\n",
    "\n",
    "\n",
    "# Publications (internal and external to the LINCS centers)\n",
    "# Collected by Moshe Silverstein\n",
    "## had to manually correct a couple errors in file\n",
    "pubs = pd.read_table('publications.tsv') \n",
    "# Fill missing pub ids\n",
    "maxID = int(max(pubs['id']))\n",
    "fillerIDs = pd.Series(range(maxID, maxID+sum(pd.isnull(pubs['id'])) ))\n",
    "pubs.fillna(fillerIDs, inplace=True)\n",
    "# Rename cols\n",
    "pubs.rename(columns={'id':'publication_id'}, inplace=True)  \n",
    "# pubs['publication_id'] = pubs['publication_id'].astype(int)\n",
    "\n",
    "# Get authors and concatenate\n",
    "pubs_tmp = pubs.merge(authorKey, on='publication_id')\n",
    "authorsConcat = pubs_tmp.groupby('publication_id')['name'].apply(lambda x: \"%s\" % ', '.join(x)).reset_index()\n",
    "authorsConcat.rename(columns={'name':'authors'}, inplace=True) \n",
    "pubs = pubs.merge(authorsConcat, on='publication_id').drop_duplicates()  \n",
    "pubs.columns\n",
    "# Additional publications (internal and external to the LINCS centers)\n",
    "#  collected by Alexandra Keenan\n",
    "pubs2 = pd.read_csv('additional_pubs.csv')\n",
    "\n",
    "def externalInternal(val):\n",
    "    if val == 'outside':\n",
    "        return 0\n",
    "    else:\n",
    "        return 1\n",
    "pubs2['center_pub'] = pubs2['center'].apply(externalInternal)\n",
    "pubs2 = pubs2.rename(columns={'PMID':'pm_id', 'year':'year_published', 'title':'article_name'})\n",
    "pubs2['publication_id'] = max(pubs['publication_id'].astype(int)) \n",
    "\n",
    "# Add together all pubs\n",
    "pubs_extended = pd.concat([pubs, pubs2],axis=0,  ignore_index=True)\n",
    "# Fix pmc_id and pm_id\n",
    "pubs_extended['pm_id'] =pubs_extended['pm_id'].fillna(0).astype(int)\n"
   ]
  },
  {
   "cell_type": "markdown",
   "metadata": {},
   "source": [
    "### Convert PMIDS to PMCs"
   ]
  },
  {
   "cell_type": "code",
   "execution_count": 5,
   "metadata": {},
   "outputs": [
    {
     "name": "stdout",
     "output_type": "stream",
     "text": [
      "PMID 26048415 ===> PMC4456804\nPMID 25417160 ===> PMC4243058\n"
     ]
    },
    {
     "name": "stdout",
     "output_type": "stream",
     "text": [
      "PMID 25814555 ===> PMC4380931\nPMID 25522349 ===> PMC4270428\n"
     ]
    },
    {
     "name": "stdout",
     "output_type": "stream",
     "text": [
      "PMID 25514926 ===> PMC4383998\nPMID 25971742 ===> PMC4607730\n"
     ]
    },
    {
     "name": "stdout",
     "output_type": "stream",
     "text": [
      "PMID 25089360 ===> PMC4201337\nPMID 25100688 ===> PMC4221125\n"
     ]
    },
    {
     "name": "stdout",
     "output_type": "stream",
     "text": [
      "PMID 25299921 ===> PMC4274604\nPMID 25324859 ===> PMC4179751\n"
     ]
    },
    {
     "name": "stdout",
     "output_type": "stream",
     "text": [
      "PMID 25102069 ===> PMC4156235\nPMID 25109570 ===> PMC4153537\n"
     ]
    },
    {
     "name": "stdout",
     "output_type": "stream",
     "text": [
      "PMID 25165633 ===> PMC4137659\nPMID 24906883 ===> PMC4086130\n"
     ]
    },
    {
     "name": "stdout",
     "output_type": "stream",
     "text": [
      "PMID 25093074 ===> PMC4108877\nPMID 24058034 ===> PMC3990667\n"
     ]
    },
    {
     "name": "stdout",
     "output_type": "stream",
     "text": [
      "PMID 24655548 ===> PMC4234128\nPMID 24518066 ===> None found\n"
     ]
    },
    {
     "name": "stdout",
     "output_type": "stream",
     "text": [
      "PMID 23607489 ===> PMC3771683\nPMID 23586463 ===> PMC3637064\n"
     ]
    },
    {
     "name": "stdout",
     "output_type": "stream",
     "text": [
      "PMID 23748957 ===> PMC3692096\nPMID 24039560 ===> PMC3764016\n"
     ]
    },
    {
     "name": "stdout",
     "output_type": "stream",
     "text": [
      "PMID 23321554 ===> PMC3609407\nPMID 23836026 ===> PMC3615534\n"
     ]
    },
    {
     "name": "stdout",
     "output_type": "stream",
     "text": [
      "PMID 23436801 ===> PMC3760004\nPMID 24013279 ===> PMC3947796\n"
     ]
    },
    {
     "name": "stdout",
     "output_type": "stream",
     "text": [
      "PMID 24185007 ===> PMC4098832\nPMID 23339603 ===> PMC3589817\n"
     ]
    },
    {
     "name": "stdout",
     "output_type": "stream",
     "text": [
      "PMID 24065145 ===> PMC3845839\nPMID 23986566 ===> PMC3799471\n"
     ]
    },
    {
     "name": "stdout",
     "output_type": "stream",
     "text": [
      "PMID 23869022 ===> PMC3959726\nPMID 23259810 ===> PMC3569091\n"
     ]
    },
    {
     "name": "stdout",
     "output_type": "stream",
     "text": [
      "PMID 24339888 ===> PMC3855094\nPMID 23749960 ===> PMC3712222\n"
     ]
    },
    {
     "name": "stdout",
     "output_type": "stream",
     "text": [
      "PMID 23788527 ===> PMC3783590\nPMID 24078772 ===> PMC3782379\n"
     ]
    },
    {
     "name": "stdout",
     "output_type": "stream",
     "text": [
      "PMID 24090834 ===> PMC3878311\nPMID 22460902 ===> PMC3349233\n"
     ]
    },
    {
     "name": "stdout",
     "output_type": "stream",
     "text": [
      "PMID 22281772 ===> PMC3428019\nPMID 23155465 ===> PMC3498356\n"
     ]
    },
    {
     "name": "stdout",
     "output_type": "stream",
     "text": [
      "PMID 22284361 ===> PMC3270411\nPMID 22991099 ===> None found\n"
     ]
    },
    {
     "name": "stdout",
     "output_type": "stream",
     "text": [
      "PMID 21516115 ===> PMC3105758\nPMID 21900204 ===> PMC3465072\n"
     ]
    },
    {
     "name": "stdout",
     "output_type": "stream",
     "text": [
      "PMID 26101093 ===> PMC4675694\nPMID 26399630 ===> PMC4587398\n"
     ]
    },
    {
     "name": "stdout",
     "output_type": "stream",
     "text": [
      "PMID 26848405 ===> PMC4737646\n"
     ]
    },
    {
     "name": "stdout",
     "output_type": "stream",
     "text": [
      "PMID 26596901 ===> PMC4657038\nPMID 26821783 ===> PMC4965338\n"
     ]
    },
    {
     "name": "stdout",
     "output_type": "stream",
     "text": [
      "PMID 26793058 ===> PMC4707261\nPMID 26912667 ===> PMC4858944\n"
     ]
    },
    {
     "name": "stdout",
     "output_type": "stream",
     "text": [
      "PMID 27153606 ===> PMC4965635\nPMID 27045593 ===> PMC4821530\n"
     ]
    },
    {
     "name": "stdout",
     "output_type": "stream",
     "text": [
      "PMID 25953765 ===> PMC4461398\nPMID 22824380 ===> PMC3443648\n"
     ]
    },
    {
     "name": "stdout",
     "output_type": "stream",
     "text": [
      "PMID 27141961 ===> PMC4987924\nPMID 27135972 ===> PMC4887336\n"
     ]
    },
    {
     "name": "stdout",
     "output_type": "stream",
     "text": [
      "PMID 27146274 ===> PMC4857123\nPMID 23327571 ===> PMC3605723\n"
     ]
    },
    {
     "name": "stdout",
     "output_type": "stream",
     "text": [
      "PMID 26928769 ===> PMC5508574\nPMID 26960204 ===> PMC4784899\n"
     ]
    },
    {
     "name": "stdout",
     "output_type": "stream",
     "text": [
      "PMID 26776204 ===> PMC4856035\nPMID 24652619 ===> PMC4016950\n"
     ]
    },
    {
     "name": "stdout",
     "output_type": "stream",
     "text": [
      "PMID 23245996 ===> PMC3667614\nPMID 22496512 ===> PMC3376217\n"
     ]
    },
    {
     "name": "stdout",
     "output_type": "stream",
     "text": [
      "PMID 22588880 ===> PMC3384541\nPMID 22223645 ===> PMC3322972\n"
     ]
    },
    {
     "name": "stdout",
     "output_type": "stream",
     "text": [
      "PMID 22234610 ===> PMC3465074\nPMID 27096930 ===> PMC4838263\n"
     ]
    },
    {
     "name": "stdout",
     "output_type": "stream",
     "text": [
      "PMID 27374120 ===> PMC4930834\nPMID 28413689 ===> PMC5389891\n"
     ]
    },
    {
     "name": "stdout",
     "output_type": "stream",
     "text": [
      "PMID 27583132 ===> PMC4972086\nPMID 27428653 ===> PMC5003654\n"
     ]
    },
    {
     "name": "stdout",
     "output_type": "stream",
     "text": [
      "PMID 27479327 ===> PMC5209295\nPMID 27200455 ===> PMC4965264\n"
     ]
    },
    {
     "name": "stdout",
     "output_type": "stream",
     "text": [
      "PMID 27187605 ===> PMC4876500\nPMID 27153732 ===> None found\n"
     ]
    },
    {
     "name": "stdout",
     "output_type": "stream",
     "text": [
      "PMID 27143038 ===> PMC4855472\nPMID 27106289 ===> PMC5005272\n"
     ]
    },
    {
     "name": "stdout",
     "output_type": "stream",
     "text": [
      "PMID 27036028 ===> PMC5053656\nPMID 26873929 ===> PMC4908320\n"
     ]
    },
    {
     "name": "stdout",
     "output_type": "stream",
     "text": [
      "PMID 26535158 ===> PMC4625862\nPMID 26306988 ===> None found\n"
     ]
    },
    {
     "name": "stdout",
     "output_type": "stream",
     "text": [
      "PMID 25609570 ===> PMC4333019\n"
     ]
    },
    {
     "name": "stdout",
     "output_type": "stream",
     "text": [
      "PMID 25036040 ===> PMC4103865\nPMID 27530814 ===> PMC4987651\n"
     ]
    },
    {
     "name": "stdout",
     "output_type": "stream",
     "text": [
      "PMID 27570643 ===> PMC5001780\nPMID 27405981 ===> PMC5036860\n"
     ]
    },
    {
     "name": "stdout",
     "output_type": "stream",
     "text": [
      "PMID 27667448 ===> PMC5052684\nPMID 27690270 ===> None found\n"
     ]
    },
    {
     "name": "stdout",
     "output_type": "stream",
     "text": [
      "PMID 27650546 ===> PMC5342018\nPMID 27768846 ===> None found\n"
     ]
    },
    {
     "name": "stdout",
     "output_type": "stream",
     "text": [
      "PMID 27251275 ===> PMC5102256\nPMID 27150398 ===> None found\n"
     ]
    },
    {
     "name": "stdout",
     "output_type": "stream",
     "text": [
      "PMID 27116041 ===> PMC4916865\nPMID 25856492 ===> PMC4457442\n"
     ]
    },
    {
     "name": "stdout",
     "output_type": "stream",
     "text": [
      "PMID 26514199 ===> PMC4868344\nPMID 26867750 ===> None found\nPMID 27984028 ===> None found\n"
     ]
    },
    {
     "name": "stdout",
     "output_type": "stream",
     "text": [
      "PMID 27846806 ===> PMC5111283\nPMID 27796074 ===> PMC5192966\n"
     ]
    },
    {
     "name": "stdout",
     "output_type": "stream",
     "text": [
      "PMID 27820799 ===> PMC5372219\nPMID 27432805 ===> None found\n"
     ]
    },
    {
     "name": "stdout",
     "output_type": "stream",
     "text": [
      "PMID 26998601 ===> PMC5138863\nPMID 26308891 ===> PMC4800742\n"
     ]
    },
    {
     "name": "stdout",
     "output_type": "stream",
     "text": [
      "PMID 28053048 ===> None found\nPMID 28069634 ===> PMC5952941\n"
     ]
    },
    {
     "name": "stdout",
     "output_type": "stream",
     "text": [
      "PMID 28071740 ===> PMC5223214\nPMID 27398798 ===> PMC4976700\n"
     ]
    },
    {
     "name": "stdout",
     "output_type": "stream",
     "text": [
      "PMID 27347216 ===> PMC4919895\nPMID 27064299 ===> None found\nPMID 28067061 ===> None found\n"
     ]
    },
    {
     "name": "stdout",
     "output_type": "stream",
     "text": [
      "PMID 28069687 ===> PMC5248573\nPMID 27978624 ===> PMC5479408\n"
     ]
    },
    {
     "name": "stdout",
     "output_type": "stream",
     "text": [
      "PMID 27050099 ===> PMC4829466\nPMID 28182661 ===> PMC5300121\n"
     ]
    },
    {
     "name": "stdout",
     "output_type": "stream",
     "text": [
      "PMID 26954019 ===> PMC4783079\nPMID 28249256 ===> None found\n"
     ]
    },
    {
     "name": "stdout",
     "output_type": "stream",
     "text": [
      "PMID 28208023 ===> PMC5349314\nPMID 28178176 ===> PMC5332957\n"
     ]
    },
    {
     "name": "stdout",
     "output_type": "stream",
     "text": [
      "PMID 28388612 ===> PMC5568558\nPMID 28314784 ===> None found\n"
     ]
    },
    {
     "name": "stdout",
     "output_type": "stream",
     "text": [
      "PMID 28501646 ===> PMC5545976\n"
     ]
    },
    {
     "name": "stdout",
     "output_type": "stream",
     "text": [
      "PMID 28558729 ===> PMC5450082\nPMID 28472897 ===> None found\n"
     ]
    },
    {
     "name": "stdout",
     "output_type": "stream",
     "text": [
      "PMID 28514657 ===> PMC5646270\nPMID 27536002 ===> PMC5159530\n"
     ]
    },
    {
     "name": "stdout",
     "output_type": "stream",
     "text": [
      "PMID 28319609 ===> PMC5610046\nPMID 28699633 ===> PMC5510182\n"
     ]
    },
    {
     "name": "stdout",
     "output_type": "stream",
     "text": [
      "PMID 28796500 ===> None found\nPMID 28769090 ===> PMC5541064\n"
     ]
    },
    {
     "name": "stdout",
     "output_type": "stream",
     "text": [
      "PMID 28686599 ===> PMC5536358\n"
     ]
    },
    {
     "name": "stdout",
     "output_type": "stream",
     "text": [
      "PMID 28951721 ===> PMC5599787\nPMID 28344341 ===> PMC6020840\n"
     ]
    },
    {
     "name": "stdout",
     "output_type": "stream",
     "text": [
      "PMID 28685762 ===> None found\nPMID 28711146 ===> None found\n"
     ]
    },
    {
     "name": "stdout",
     "output_type": "stream",
     "text": [
      "PMID 28815138 ===> PMC5543336\nPMID 27773806 ===> PMC5193106\n"
     ]
    },
    {
     "name": "stdout",
     "output_type": "stream",
     "text": [
      "PMID 28303962 ===> PMC5355998\nPMID 28984195 ===> PMC5629618\n"
     ]
    },
    {
     "name": "stdout",
     "output_type": "stream",
     "text": [
      "PMID 28994825 ===> PMC5634325\nPMID 29020744 ===> PMC5632288\n"
     ]
    },
    {
     "name": "stdout",
     "output_type": "stream",
     "text": [
      "PMID 28884163 ===> PMC5579542\nPMID 29017547 ===> PMC5635550\n"
     ]
    },
    {
     "name": "stdout",
     "output_type": "stream",
     "text": [
      "PMID 28939861 ===> PMC5610318\n"
     ]
    },
    {
     "name": "stdout",
     "output_type": "stream",
     "text": [
      "PMID 28591115 ===> PMC5668135\nPMID 28628201 ===> PMC5729909\n"
     ]
    },
    {
     "name": "stdout",
     "output_type": "stream",
     "text": [
      "PMID 28628199 ===> PMC5538315\nPMID 28647088 ===> None found\n"
     ]
    },
    {
     "name": "stdout",
     "output_type": "stream",
     "text": [
      "PMID 27864353 ===> PMC5287226\nPMID 28899970 ===> None found\n"
     ]
    },
    {
     "name": "stdout",
     "output_type": "stream",
     "text": [
      "PMID 28415592 ===> PMC5482631\nPMID 28667284 ===> PMC5493619\n"
     ]
    },
    {
     "name": "stdout",
     "output_type": "stream",
     "text": [
      "PMID 29084964 ===> PMC5662764\nPMID 29065900 ===> PMC5655815\n"
     ]
    },
    {
     "name": "stdout",
     "output_type": "stream",
     "text": [
      "PMID 29112189 ===> PMC5674849\n"
     ]
    },
    {
     "name": "stdout",
     "output_type": "stream",
     "text": [
      "PMID 29199020 ===> PMC5799026\nPMID 29195078 ===> PMC5990023\n"
     ]
    },
    {
     "name": "stdout",
     "output_type": "stream",
     "text": [
      "PMID 29218867 ===> PMC5753597\nPMID 29293502 ===> PMC5766255\n"
     ]
    },
    {
     "name": "stdout",
     "output_type": "stream",
     "text": [
      "PMID 29331675 ===> PMC5828545\nPMID 29092073 ===> None found\n"
     ]
    },
    {
     "name": "stdout",
     "output_type": "stream",
     "text": [
      "PMID 29341478 ===> PMC5869547\nPMID 29420694 ===> None found\n"
     ]
    },
    {
     "name": "stdout",
     "output_type": "stream",
     "text": [
      "PMID 29485625 ===> PMC5827688\nPMID 29497781 ===> None found\n"
     ]
    },
    {
     "name": "stdout",
     "output_type": "stream",
     "text": [
      "PMID 29482641 ===> PMC5828078\nPMID 29655704 ===> PMC5951639\n"
     ]
    },
    {
     "name": "stdout",
     "output_type": "stream",
     "text": [
      "PMID 29636450 ===> PMC5893633\nPMID 29688306 ===> None found\n"
     ]
    },
    {
     "name": "stdout",
     "output_type": "stream",
     "text": [
      "PMID 29550255 ===> PMC5927625\nPMID 29789295 ===> None found\n"
     ]
    },
    {
     "name": "stdout",
     "output_type": "stream",
     "text": [
      "PMID 29800326 ===> PMC6030863\nPMID 29886111 ===> None found\n"
     ]
    },
    {
     "name": "stdout",
     "output_type": "stream",
     "text": [
      "PMID 29917015 ===> PMC6007090\nPMID 28973463 ===> PMC5737394\n"
     ]
    },
    {
     "name": "stdout",
     "output_type": "stream",
     "text": [
      "PMID 30018738 ===> PMC6044382\n"
     ]
    },
    {
     "name": "stdout",
     "output_type": "stream",
     "text": [
      "PMID 29950002 ===> PMC6022536\nPMID 29920991 ===> PMC6063738\n"
     ]
    },
    {
     "name": "stdout",
     "output_type": "stream",
     "text": [
      "PMID 29870138 ===> PMC6068465\nPMID 29745839 ===> PMC5998894\n"
     ]
    },
    {
     "name": "stdout",
     "output_type": "stream",
     "text": [
      "PMID 29654068 ===> PMC6030474\nPMID 29251283 ===> PMC5916369\n"
     ]
    },
    {
     "name": "stdout",
     "output_type": "stream",
     "text": [
      "PMID 29784986 ===> PMC5962550\nPMID 29773677 ===> PMC5974511\n"
     ]
    },
    {
     "name": "stdout",
     "output_type": "stream",
     "text": [
      "PMID 29558515 ===> PMC5860760\nPMID 29545755 ===> PMC5838628\n"
     ]
    },
    {
     "name": "stdout",
     "output_type": "stream",
     "text": [
      "PMID 29317676 ===> PMC5760621\nPMID 29023443 ===> PMC5638208\n"
     ]
    },
    {
     "name": "stdout",
     "output_type": "stream",
     "text": [
      "PMID 28528867 ===> PMC5502825\nPMID 27716417 ===> PMC5046221\n"
     ]
    },
    {
     "name": "stdout",
     "output_type": "stream",
     "text": [
      "PMID 27485444 ===> PMC5181570\nPMID 27086720 ===> PMC4834551\n"
     ]
    },
    {
     "name": "stdout",
     "output_type": "stream",
     "text": [
      "PMID 27009862 ===> PMC5029662\nPMID 26719057 ===> PMC4689484\n"
     ]
    },
    {
     "name": "stdout",
     "output_type": "stream",
     "text": [
      "PMID 26342919 ===> PMC4600621\nPMID 25811180 ===> PMC4374785\n"
     ]
    },
    {
     "name": "stdout",
     "output_type": "stream",
     "text": [
      "PMID 27009580 ===> PMC4826467\nPMID 26634440 ===> PMC4706788\n"
     ]
    },
    {
     "name": "stdout",
     "output_type": "stream",
     "text": [
      "PMID 26496021 ===> PMC4701889\nPMID 26256211 ===> PMC4573840\n"
     ]
    },
    {
     "name": "stdout",
     "output_type": "stream",
     "text": [
      "PMID 26048415 ===> PMC4456804\nPMID 26894958 ===> PMC4798961\n"
     ]
    },
    {
     "name": "stdout",
     "output_type": "stream",
     "text": [
      "PMID 29615902 ===> PMC5864870\nPMID 29894694 ===> None found\nPMID 26297300 ===> None found\n"
     ]
    },
    {
     "name": "stdout",
     "output_type": "stream",
     "text": [
      "PMID 28274840 ===> PMC5487293\nPMID 28624633 ===> PMC5650527\n"
     ]
    },
    {
     "name": "stdout",
     "output_type": "stream",
     "text": [
      "PMID 28931638 ===> PMC5636275\nPMID 28218906 ===> PMC5467892\n"
     ]
    },
    {
     "name": "stdout",
     "output_type": "stream",
     "text": [
      "PMID 28487351 ===> PMC5488396\nPMID 27226058 ===> PMC4881047\n"
     ]
    },
    {
     "name": "stdout",
     "output_type": "stream",
     "text": [
      "PMID 29322915 ===> PMC5763470\nPMID 26863628 ===> PMC4905491\n"
     ]
    },
    {
     "name": "stdout",
     "output_type": "stream",
     "text": [
      "PMID 27583132 ===> PMC4972086\nPMID 29256623 ===> None found\nPMID 29194609 ===> None found\n"
     ]
    },
    {
     "name": "stdout",
     "output_type": "stream",
     "text": [
      "PMID 29615643 ===> PMC5882888\nPMID 29625051 ===> PMC5902191\n"
     ]
    },
    {
     "name": "stdout",
     "output_type": "stream",
     "text": [
      "PMID 29745839 ===> PMC5998894\n"
     ]
    }
   ],
   "source": [
    "converter_url =  'https://www.ncbi.nlm.nih.gov/pmc/utils/idconv/v1.0/?'+\\\n",
    "                 'ids=' \n",
    "tool = 'MaayanLab'\n",
    "email = 'brian_schilder@alumni.brown.edu' \n",
    "# You can register an API in your NCBI account settings to submit up to 10 requests/second\n",
    "# ,instead of the default 3 requests/second\n",
    "APIkey = 'ff789492667dabdb0c98afa776eb2090cc08'\n",
    "PMID_list = pubs_extended['pm_id'] \n",
    "PMID_list = PMID_list[PMID_list!=0].astype(str)\n",
    "\n",
    "urls = converter_url+PMID_list +'&tool='+tool+'&email='+email+'&api_key='+APIkey+'&retmode=json'\n",
    "url=urls[0]\n",
    "\n",
    "import xmltodict, time\n",
    "from requests import get\n",
    "def PMID_to_PMCID(url): \n",
    "    PMID = url.split('ids=')[1].split(\"&tool\")[0] \n",
    "    response = get(str(url))\n",
    "    pmDict = xmltodict.parse(response.content)\n",
    "    try:\n",
    "        PMCid = status = pmDict['pmcids']['record']['@pmcid'] \n",
    "        time.sleep(.11)\n",
    "    except: \n",
    "        PMCid = None\n",
    "        status = 'None found'\n",
    "    print(\"PMID \"+PMID+\" ===> \"+status)\n",
    "    return PMCid\n",
    "\n",
    "\n",
    "res = list(map(PMID_to_PMCID, urls))\n",
    "converted_PMIDs = dict(zip(PMID_list, res))\n",
    "converted_PMIDs_df = pd.DataFrame(pd.Series(converted_PMIDs)).reset_index()\n",
    "converted_PMIDs_df.columns = ['pm_id','PMCID']\n",
    "converted_PMIDs_df['pm_id'] = converted_PMIDs_df['pm_id'].astype(int)\n",
    "\n",
    "\n",
    "\n",
    "\n",
    "\n",
    "\n"
   ]
  },
  {
   "cell_type": "code",
   "execution_count": 47,
   "metadata": {},
   "outputs": [],
   "source": [
    "pubs_extended = pubs_extended.merge(converted_PMIDs_df, on='pm_id')\n",
    "# Fix pmc_id and pm_id\n",
    "pubs_extended['pm_id'] =pubs_extended['pm_id'].fillna(0).astype(int)"
   ]
  },
  {
   "cell_type": "markdown",
   "metadata": {},
   "source": [
    "## Get Citations from PubMed API\n",
    "Documentation: \n",
    "- https://www.ncbi.nlm.nih.gov/pmc/tools/cites-citedby/\n",
    "- https://www.ncbi.nlm.nih.gov/books/NBK25497/\n",
    "\n",
    "Note: To use the API you must first register your tool and email with NCBI by emailing eutilities@ncbi.nlm.nih.gov;"
   ]
  },
  {
   "cell_type": "code",
   "execution_count": 6,
   "metadata": {},
   "outputs": [
    {
     "name": "stdout",
     "output_type": "stream",
     "text": [
      "Extracting Citations for PMC : 4456804........ 6 citations found\n"
     ]
    },
    {
     "name": "stdout",
     "output_type": "stream",
     "text": [
      "Extracting Citations for PMC : 4456804........ 6 citations found\n"
     ]
    },
    {
     "name": "stdout",
     "output_type": "stream",
     "text": [
      "Extracting Citations for PMC : 4243058........ 67 citations found\n"
     ]
    },
    {
     "name": "stdout",
     "output_type": "stream",
     "text": [
      "Extracting Citations for PMC : 4380931........ 18 citations found\n"
     ]
    },
    {
     "name": "stdout",
     "output_type": "stream",
     "text": [
      "Extracting Citations for PMC : 4270428........ 4 citations found\n"
     ]
    },
    {
     "name": "stdout",
     "output_type": "stream",
     "text": [
      "Extracting Citations for PMC : 4383998........ 291 citations found\n"
     ]
    },
    {
     "name": "stdout",
     "output_type": "stream",
     "text": [
      "Extracting Citations for PMC : 4607730........ 8 citations found\n"
     ]
    },
    {
     "name": "stdout",
     "output_type": "stream",
     "text": [
      "Extracting Citations for PMC : 4201337........ 27 citations found\n"
     ]
    },
    {
     "name": "stdout",
     "output_type": "stream",
     "text": [
      "Extracting Citations for PMC : 4221125........ 3 citations found\nExtracting Citations for PMC : 4274604........ None found\n"
     ]
    },
    {
     "name": "stdout",
     "output_type": "stream",
     "text": [
      "Extracting Citations for PMC : 4179751........ 19 citations found\n"
     ]
    },
    {
     "name": "stdout",
     "output_type": "stream",
     "text": [
      "Extracting Citations for PMC : 4156235........ 46 citations found\n"
     ]
    },
    {
     "name": "stdout",
     "output_type": "stream",
     "text": [
      "Extracting Citations for PMC : 4153537........ 21 citations found\n"
     ]
    },
    {
     "name": "stdout",
     "output_type": "stream",
     "text": [
      "Extracting Citations for PMC : 4137659........ 4 citations found\n"
     ]
    },
    {
     "name": "stdout",
     "output_type": "stream",
     "text": [
      "Extracting Citations for PMC : 4086130........ 63 citations found\n"
     ]
    },
    {
     "name": "stdout",
     "output_type": "stream",
     "text": [
      "Extracting Citations for PMC : 4108877........ 23 citations found\n"
     ]
    },
    {
     "name": "stdout",
     "output_type": "stream",
     "text": [
      "Extracting Citations for PMC : 3990667........ 3 citations found\n"
     ]
    },
    {
     "name": "stdout",
     "output_type": "stream",
     "text": [
      "Extracting Citations for PMC : 4234128........ 16 citations found\nExtracting Citations for PMC : None........ None found\n"
     ]
    },
    {
     "name": "stdout",
     "output_type": "stream",
     "text": [
      "Extracting Citations for PMC : 3771683........ 10 citations found\n"
     ]
    },
    {
     "name": "stdout",
     "output_type": "stream",
     "text": [
      "Extracting Citations for PMC : 3637064........ 454 citations found\n"
     ]
    },
    {
     "name": "stdout",
     "output_type": "stream",
     "text": [
      "Extracting Citations for PMC : 3692096........ 9 citations found\nExtracting Citations for PMC : 3764016........ 5 citations found\n"
     ]
    },
    {
     "name": "stdout",
     "output_type": "stream",
     "text": [
      "Extracting Citations for PMC : 3609407........ None found\n"
     ]
    },
    {
     "name": "stdout",
     "output_type": "stream",
     "text": [
      "Extracting Citations for PMC : 3615534........ 9 citations found\n"
     ]
    },
    {
     "name": "stdout",
     "output_type": "stream",
     "text": [
      "Extracting Citations for PMC : 3760004........ 35 citations found\n"
     ]
    },
    {
     "name": "stdout",
     "output_type": "stream",
     "text": [
      "Extracting Citations for PMC : 3947796........ 68 citations found\n"
     ]
    },
    {
     "name": "stdout",
     "output_type": "stream",
     "text": [
      "Extracting Citations for PMC : 4098832........ 123 citations found\n"
     ]
    },
    {
     "name": "stdout",
     "output_type": "stream",
     "text": [
      "Extracting Citations for PMC : 3589817........ 33 citations found\n"
     ]
    },
    {
     "name": "stdout",
     "output_type": "stream",
     "text": [
      "Extracting Citations for PMC : 3845839........ 33 citations found\n"
     ]
    },
    {
     "name": "stdout",
     "output_type": "stream",
     "text": [
      "Extracting Citations for PMC : 3799471........ 39 citations found\n"
     ]
    },
    {
     "name": "stdout",
     "output_type": "stream",
     "text": [
      "Extracting Citations for PMC : 3959726........ 75 citations found\n"
     ]
    },
    {
     "name": "stdout",
     "output_type": "stream",
     "text": [
      "Extracting Citations for PMC : 3569091........ 12 citations found\n"
     ]
    },
    {
     "name": "stdout",
     "output_type": "stream",
     "text": [
      "Extracting Citations for PMC : 3855094........ 9 citations found\nExtracting Citations for PMC : 3712222........ 19 citations found\n"
     ]
    },
    {
     "name": "stdout",
     "output_type": "stream",
     "text": [
      "Extracting Citations for PMC : 3783590........ 2 citations found\nExtracting Citations for PMC : 3782379........ 3 citations found\n"
     ]
    },
    {
     "name": "stdout",
     "output_type": "stream",
     "text": [
      "Extracting Citations for PMC : 3878311........ 8 citations found\n"
     ]
    },
    {
     "name": "stdout",
     "output_type": "stream",
     "text": [
      "Extracting Citations for PMC : 3349233........ 655 citations found\n"
     ]
    },
    {
     "name": "stdout",
     "output_type": "stream",
     "text": [
      "Extracting Citations for PMC : 3428019........ 93 citations found\n"
     ]
    },
    {
     "name": "stdout",
     "output_type": "stream",
     "text": [
      "Extracting Citations for PMC : 3498356........ 18 citations found\n"
     ]
    },
    {
     "name": "stdout",
     "output_type": "stream",
     "text": [
      "Extracting Citations for PMC : 3270411........ 68 citations found\nExtracting Citations for PMC : None........ None found\n"
     ]
    },
    {
     "name": "stdout",
     "output_type": "stream",
     "text": [
      "Extracting Citations for PMC : 3105758........ 25 citations found\n"
     ]
    },
    {
     "name": "stdout",
     "output_type": "stream",
     "text": [
      "Extracting Citations for PMC : 3465072........ 47 citations found\nExtracting Citations for PMC : 4675694........ None found\n"
     ]
    },
    {
     "name": "stdout",
     "output_type": "stream",
     "text": [
      "Extracting Citations for PMC : 4587398........ 29 citations found\n"
     ]
    },
    {
     "name": "stdout",
     "output_type": "stream",
     "text": [
      "Extracting Citations for PMC : 4737646........ 6 citations found\n"
     ]
    },
    {
     "name": "stdout",
     "output_type": "stream",
     "text": [
      "Extracting Citations for PMC : 4657038........ 7 citations found\nExtracting Citations for PMC : 4965338........ None found\n"
     ]
    },
    {
     "name": "stdout",
     "output_type": "stream",
     "text": [
      "Extracting Citations for PMC : 4707261........ 10 citations found\n"
     ]
    },
    {
     "name": "stdout",
     "output_type": "stream",
     "text": [
      "Extracting Citations for PMC : 4858944........ 17 citations found\n"
     ]
    },
    {
     "name": "stdout",
     "output_type": "stream",
     "text": [
      "Extracting Citations for PMC : 4965635........ 10 citations found\n"
     ]
    },
    {
     "name": "stdout",
     "output_type": "stream",
     "text": [
      "Extracting Citations for PMC : 4821530........ 6 citations found\nExtracting Citations for PMC : 4461398........ 18 citations found\n"
     ]
    },
    {
     "name": "stdout",
     "output_type": "stream",
     "text": [
      "Extracting Citations for PMC : 3443648........ 8 citations found\n"
     ]
    },
    {
     "name": "stdout",
     "output_type": "stream",
     "text": [
      "Extracting Citations for PMC : 4987924........ 240 citations found\n"
     ]
    },
    {
     "name": "stdout",
     "output_type": "stream",
     "text": [
      "Extracting Citations for PMC : 4887336........ 38 citations found\n"
     ]
    },
    {
     "name": "stdout",
     "output_type": "stream",
     "text": [
      "Extracting Citations for PMC : 4857123........ 4 citations found\n"
     ]
    },
    {
     "name": "stdout",
     "output_type": "stream",
     "text": [
      "Extracting Citations for PMC : 3605723........ 9 citations found\n"
     ]
    },
    {
     "name": "stdout",
     "output_type": "stream",
     "text": [
      "Extracting Citations for PMC : 5508574........ 10 citations found\nExtracting Citations for PMC : 4784899........ 12 citations found\n"
     ]
    },
    {
     "name": "stdout",
     "output_type": "stream",
     "text": [
      "Extracting Citations for PMC : 4856035........ 4 citations found\nExtracting Citations for PMC : 4016950........ None found\n"
     ]
    },
    {
     "name": "stdout",
     "output_type": "stream",
     "text": [
      "Extracting Citations for PMC : 3667614........ 107 citations found\n"
     ]
    },
    {
     "name": "stdout",
     "output_type": "stream",
     "text": [
      "Extracting Citations for PMC : 3376217........ 6 citations found\nExtracting Citations for PMC : 3384541........ 58 citations found\n"
     ]
    },
    {
     "name": "stdout",
     "output_type": "stream",
     "text": [
      "Extracting Citations for PMC : 3322972........ 39 citations found\n"
     ]
    },
    {
     "name": "stdout",
     "output_type": "stream",
     "text": [
      "Extracting Citations for PMC : 3465074........ 7 citations found\n"
     ]
    },
    {
     "name": "stdout",
     "output_type": "stream",
     "text": [
      "Extracting Citations for PMC : 4838263........ 13 citations found\n"
     ]
    },
    {
     "name": "stdout",
     "output_type": "stream",
     "text": [
      "Extracting Citations for PMC : 4930834........ 38 citations found\n"
     ]
    },
    {
     "name": "stdout",
     "output_type": "stream",
     "text": [
      "Extracting Citations for PMC : 5389891........ 18 citations found\n"
     ]
    },
    {
     "name": "stdout",
     "output_type": "stream",
     "text": [
      "Extracting Citations for PMC : 4972086........ 6 citations found\n"
     ]
    },
    {
     "name": "stdout",
     "output_type": "stream",
     "text": [
      "Extracting Citations for PMC : 4972086........ 6 citations found\n"
     ]
    },
    {
     "name": "stdout",
     "output_type": "stream",
     "text": [
      "Extracting Citations for PMC : 5003654........ 13 citations found\n"
     ]
    },
    {
     "name": "stdout",
     "output_type": "stream",
     "text": [
      "Extracting Citations for PMC : 5209295........ 21 citations found\n"
     ]
    },
    {
     "name": "stdout",
     "output_type": "stream",
     "text": [
      "Extracting Citations for PMC : 4965264........ 18 citations found\nExtracting Citations for PMC : 4876500........ 3 citations found\n"
     ]
    },
    {
     "name": "stdout",
     "output_type": "stream",
     "text": [
      "Extracting Citations for PMC : None........ None found\n"
     ]
    },
    {
     "name": "stdout",
     "output_type": "stream",
     "text": [
      "Extracting Citations for PMC : 4855472........ 4 citations found\n"
     ]
    },
    {
     "name": "stdout",
     "output_type": "stream",
     "text": [
      "Extracting Citations for PMC : 5005272........ 2 citations found\nExtracting Citations for PMC : 5053656........ None found\n"
     ]
    },
    {
     "name": "stdout",
     "output_type": "stream",
     "text": [
      "Extracting Citations for PMC : 4908320........ 17 citations found\n"
     ]
    },
    {
     "name": "stdout",
     "output_type": "stream",
     "text": [
      "Extracting Citations for PMC : 4625862........ 9 citations found\nExtracting Citations for PMC : None........ None found\n"
     ]
    },
    {
     "name": "stdout",
     "output_type": "stream",
     "text": [
      "Extracting Citations for PMC : 4333019........ 15 citations found\n"
     ]
    },
    {
     "name": "stdout",
     "output_type": "stream",
     "text": [
      "Extracting Citations for PMC : 4103865........ 7 citations found\n"
     ]
    },
    {
     "name": "stdout",
     "output_type": "stream",
     "text": [
      "Extracting Citations for PMC : 4987651........ 10 citations found\n"
     ]
    },
    {
     "name": "stdout",
     "output_type": "stream",
     "text": [
      "Extracting Citations for PMC : 5001780........ 2 citations found\n"
     ]
    },
    {
     "name": "stdout",
     "output_type": "stream",
     "text": [
      "Extracting Citations for PMC : 5036860........ 14 citations found\n"
     ]
    },
    {
     "name": "stdout",
     "output_type": "stream",
     "text": [
      "Extracting Citations for PMC : 5052684........ 16 citations found\nExtracting Citations for PMC : None........ None found\n"
     ]
    },
    {
     "name": "stdout",
     "output_type": "stream",
     "text": [
      "Extracting Citations for PMC : 5342018........ 2 citations found\nExtracting Citations for PMC : None........ None found\n"
     ]
    },
    {
     "name": "stdout",
     "output_type": "stream",
     "text": [
      "Extracting Citations for PMC : 5102256........ 146 citations found\nExtracting Citations for PMC : None........ None found\nExtracting Citations for PMC : 4916865........ None found\n"
     ]
    },
    {
     "name": "stdout",
     "output_type": "stream",
     "text": [
      "Extracting Citations for PMC : 4457442........ 6 citations found\n"
     ]
    },
    {
     "name": "stdout",
     "output_type": "stream",
     "text": [
      "Extracting Citations for PMC : 4868344........ 4 citations found\nExtracting Citations for PMC : None........ None found\n"
     ]
    },
    {
     "name": "stdout",
     "output_type": "stream",
     "text": [
      "Extracting Citations for PMC : None........ None found\n"
     ]
    },
    {
     "name": "stdout",
     "output_type": "stream",
     "text": [
      "Extracting Citations for PMC : 5111283........ 2 citations found\nExtracting Citations for PMC : 5192966........ None found\n"
     ]
    },
    {
     "name": "stdout",
     "output_type": "stream",
     "text": [
      "Extracting Citations for PMC : 5372219........ 8 citations found\nExtracting Citations for PMC : None........ None found\n"
     ]
    },
    {
     "name": "stdout",
     "output_type": "stream",
     "text": [
      "Extracting Citations for PMC : 5138863........ 45 citations found\n"
     ]
    },
    {
     "name": "stdout",
     "output_type": "stream",
     "text": [
      "Extracting Citations for PMC : 4800742........ 165 citations found\nExtracting Citations for PMC : None........ None found\n"
     ]
    },
    {
     "name": "stdout",
     "output_type": "stream",
     "text": [
      "Extracting Citations for PMC : 5952941........ 3 citations found\n"
     ]
    },
    {
     "name": "stdout",
     "output_type": "stream",
     "text": [
      "Extracting Citations for PMC : 5223214........ 5 citations found\n"
     ]
    },
    {
     "name": "stdout",
     "output_type": "stream",
     "text": [
      "Extracting Citations for PMC : 4976700........ 3 citations found\n"
     ]
    },
    {
     "name": "stdout",
     "output_type": "stream",
     "text": [
      "Extracting Citations for PMC : 4919895........ 2 citations found\nExtracting Citations for PMC : None........ None found\nExtracting Citations for PMC : None........ None found\n"
     ]
    },
    {
     "name": "stdout",
     "output_type": "stream",
     "text": [
      "Extracting Citations for PMC : 5248573........ 17 citations found\nExtracting Citations for PMC : 5479408........ None found\n"
     ]
    },
    {
     "name": "stdout",
     "output_type": "stream",
     "text": [
      "Extracting Citations for PMC : 4829466........ 37 citations found\nExtracting Citations for PMC : 5300121........ None found\n"
     ]
    },
    {
     "name": "stdout",
     "output_type": "stream",
     "text": [
      "Extracting Citations for PMC : 4783079........ 6 citations found\nExtracting Citations for PMC : None........ None found\nExtracting Citations for PMC : 5349314........ None found\n"
     ]
    },
    {
     "name": "stdout",
     "output_type": "stream",
     "text": [
      "Extracting Citations for PMC : 5332957........ None found\n"
     ]
    },
    {
     "name": "stdout",
     "output_type": "stream",
     "text": [
      "Extracting Citations for PMC : 5568558........ 23 citations found\nExtracting Citations for PMC : None........ None found\n"
     ]
    },
    {
     "name": "stdout",
     "output_type": "stream",
     "text": [
      "Extracting Citations for PMC : 5545976........ 4 citations found\n"
     ]
    },
    {
     "name": "stdout",
     "output_type": "stream",
     "text": [
      "Extracting Citations for PMC : 5450082........ 6 citations found\nExtracting Citations for PMC : None........ None found\n"
     ]
    },
    {
     "name": "stdout",
     "output_type": "stream",
     "text": [
      "Extracting Citations for PMC : 5646270........ 14 citations found\nExtracting Citations for PMC : 5159530........ None found\n"
     ]
    },
    {
     "name": "stdout",
     "output_type": "stream",
     "text": [
      "Extracting Citations for PMC : 5610046........ 5 citations found\n"
     ]
    },
    {
     "name": "stdout",
     "output_type": "stream",
     "text": [
      "Extracting Citations for PMC : 5510182........ 3 citations found\nExtracting Citations for PMC : None........ None found\n"
     ]
    },
    {
     "name": "stdout",
     "output_type": "stream",
     "text": [
      "Extracting Citations for PMC : 5541064........ None found\nExtracting Citations for PMC : 5536358........ None found\n"
     ]
    },
    {
     "name": "stdout",
     "output_type": "stream",
     "text": [
      "Extracting Citations for PMC : 5599787........ None found\n"
     ]
    },
    {
     "name": "stdout",
     "output_type": "stream",
     "text": [
      "Extracting Citations for PMC : 6020840........ 6 citations found\nExtracting Citations for PMC : None........ None found\nExtracting Citations for PMC : None........ None found\n"
     ]
    },
    {
     "name": "stdout",
     "output_type": "stream",
     "text": [
      "Extracting Citations for PMC : 5543336........ None found\n"
     ]
    },
    {
     "name": "stdout",
     "output_type": "stream",
     "text": [
      "Extracting Citations for PMC : 5193106........ 4 citations found\nExtracting Citations for PMC : 5355998........ None found\n"
     ]
    },
    {
     "name": "stdout",
     "output_type": "stream",
     "text": [
      "Extracting Citations for PMC : 5629618........ None found\n"
     ]
    },
    {
     "name": "stdout",
     "output_type": "stream",
     "text": [
      "Extracting Citations for PMC : 5634325........ 3 citations found\nExtracting Citations for PMC : 5632288........ None found\n"
     ]
    },
    {
     "name": "stdout",
     "output_type": "stream",
     "text": [
      "Extracting Citations for PMC : 5579542........ None found\n"
     ]
    },
    {
     "name": "stdout",
     "output_type": "stream",
     "text": [
      "Extracting Citations for PMC : 5635550........ 2 citations found\nExtracting Citations for PMC : 5610318........ None found\n"
     ]
    },
    {
     "name": "stdout",
     "output_type": "stream",
     "text": [
      "Extracting Citations for PMC : 5668135........ 7 citations found\n"
     ]
    },
    {
     "name": "stdout",
     "output_type": "stream",
     "text": [
      "Extracting Citations for PMC : 5729909........ 5 citations found\n"
     ]
    },
    {
     "name": "stdout",
     "output_type": "stream",
     "text": [
      "Extracting Citations for PMC : 5538315........ 6 citations found\nExtracting Citations for PMC : None........ None found\nExtracting Citations for PMC : 5287226........ None found\n"
     ]
    },
    {
     "name": "stdout",
     "output_type": "stream",
     "text": [
      "Extracting Citations for PMC : None........ None found\n"
     ]
    },
    {
     "name": "stdout",
     "output_type": "stream",
     "text": [
      "Extracting Citations for PMC : 5482631........ 2 citations found\n"
     ]
    },
    {
     "name": "stdout",
     "output_type": "stream",
     "text": [
      "Extracting Citations for PMC : 5493619........ None found\n"
     ]
    },
    {
     "name": "stdout",
     "output_type": "stream",
     "text": [
      "Extracting Citations for PMC : 5662764........ 2 citations found\n"
     ]
    },
    {
     "name": "stdout",
     "output_type": "stream",
     "text": [
      "Extracting Citations for PMC : 5655815........ 3 citations found\nExtracting Citations for PMC : 5674849........ None found\n"
     ]
    },
    {
     "name": "stdout",
     "output_type": "stream",
     "text": [
      "Extracting Citations for PMC : 5799026........ 9 citations found\n"
     ]
    },
    {
     "name": "stdout",
     "output_type": "stream",
     "text": [
      "Extracting Citations for PMC : 5990023........ 25 citations found\nExtracting Citations for PMC : 5753597........ None found\nExtracting Citations for PMC : 5766255........ None found\n"
     ]
    },
    {
     "name": "stdout",
     "output_type": "stream",
     "text": [
      "Extracting Citations for PMC : 5828545........ None found\nExtracting Citations for PMC : None........ None found\nExtracting Citations for PMC : 5869547........ None found\n"
     ]
    },
    {
     "name": "stdout",
     "output_type": "stream",
     "text": [
      "Extracting Citations for PMC : None........ None found\nExtracting Citations for PMC : 5827688........ None found\nExtracting Citations for PMC : None........ None found\n"
     ]
    },
    {
     "name": "stdout",
     "output_type": "stream",
     "text": [
      "Extracting Citations for PMC : 5828078........ None found\n"
     ]
    },
    {
     "name": "stdout",
     "output_type": "stream",
     "text": [
      "Extracting Citations for PMC : 5951639........ 4 citations found\n"
     ]
    },
    {
     "name": "stdout",
     "output_type": "stream",
     "text": [
      "Extracting Citations for PMC : 5893633........ 2 citations found\nExtracting Citations for PMC : None........ None found\nExtracting Citations for PMC : 5927625........ None found\n"
     ]
    },
    {
     "name": "stdout",
     "output_type": "stream",
     "text": [
      "Extracting Citations for PMC : None........ None found\nExtracting Citations for PMC : 6030863........ None found\nExtracting Citations for PMC : None........ None found\n"
     ]
    },
    {
     "name": "stdout",
     "output_type": "stream",
     "text": [
      "Extracting Citations for PMC : 6007090........ None found\nExtracting Citations for PMC : 5737394........ None found\n"
     ]
    },
    {
     "name": "stdout",
     "output_type": "stream",
     "text": [
      "Extracting Citations for PMC : 6044382........ None found\nExtracting Citations for PMC : 6022536........ None found\nExtracting Citations for PMC : 6063738........ None found\n"
     ]
    },
    {
     "name": "stdout",
     "output_type": "stream",
     "text": [
      "Extracting Citations for PMC : 6068465........ None found\nExtracting Citations for PMC : 5998894........ None found\nExtracting Citations for PMC : 5998894........ None found\n"
     ]
    },
    {
     "name": "stdout",
     "output_type": "stream",
     "text": [
      "Extracting Citations for PMC : 6030474........ None found\nExtracting Citations for PMC : 5916369........ None found\n"
     ]
    },
    {
     "name": "stdout",
     "output_type": "stream",
     "text": [
      "Extracting Citations for PMC : 5962550........ None found\n"
     ]
    },
    {
     "name": "stdout",
     "output_type": "stream",
     "text": [
      "Extracting Citations for PMC : 5974511........ 2 citations found\nExtracting Citations for PMC : 5860760........ None found\nExtracting Citations for PMC : 5838628........ None found\n"
     ]
    },
    {
     "name": "stdout",
     "output_type": "stream",
     "text": [
      "Extracting Citations for PMC : 5760621........ None found\nExtracting Citations for PMC : 5638208........ None found\n"
     ]
    },
    {
     "name": "stdout",
     "output_type": "stream",
     "text": [
      "Extracting Citations for PMC : 5502825........ 21 citations found\n"
     ]
    },
    {
     "name": "stdout",
     "output_type": "stream",
     "text": [
      "Extracting Citations for PMC : 5046221........ 4 citations found\n"
     ]
    },
    {
     "name": "stdout",
     "output_type": "stream",
     "text": [
      "Extracting Citations for PMC : 5181570........ 2 citations found\n"
     ]
    },
    {
     "name": "stdout",
     "output_type": "stream",
     "text": [
      "Extracting Citations for PMC : 4834551........ 3 citations found\n"
     ]
    },
    {
     "name": "stdout",
     "output_type": "stream",
     "text": [
      "Extracting Citations for PMC : 5029662........ 3 citations found\n"
     ]
    },
    {
     "name": "stdout",
     "output_type": "stream",
     "text": [
      "Extracting Citations for PMC : 4689484........ 3 citations found\n"
     ]
    },
    {
     "name": "stdout",
     "output_type": "stream",
     "text": [
      "Extracting Citations for PMC : 4600621........ 17 citations found\n"
     ]
    },
    {
     "name": "stdout",
     "output_type": "stream",
     "text": [
      "Extracting Citations for PMC : 4374785........ 6 citations found\n"
     ]
    },
    {
     "name": "stdout",
     "output_type": "stream",
     "text": [
      "Extracting Citations for PMC : 4826467........ 14 citations found\n"
     ]
    },
    {
     "name": "stdout",
     "output_type": "stream",
     "text": [
      "Extracting Citations for PMC : 4706788........ 36 citations found\n"
     ]
    },
    {
     "name": "stdout",
     "output_type": "stream",
     "text": [
      "Extracting Citations for PMC : 4701889........ 3 citations found\n"
     ]
    },
    {
     "name": "stdout",
     "output_type": "stream",
     "text": [
      "Extracting Citations for PMC : 4573840........ 15 citations found\n"
     ]
    },
    {
     "name": "stdout",
     "output_type": "stream",
     "text": [
      "Extracting Citations for PMC : 4798961........ 13 citations found\nExtracting Citations for PMC : 5864870........ None found\nExtracting Citations for PMC : None........ None found\n"
     ]
    },
    {
     "name": "stdout",
     "output_type": "stream",
     "text": [
      "Extracting Citations for PMC : None........ None found\n"
     ]
    },
    {
     "name": "stdout",
     "output_type": "stream",
     "text": [
      "Extracting Citations for PMC : 5487293........ 3 citations found\nExtracting Citations for PMC : 5650527........ None found\nExtracting Citations for PMC : 5636275........ None found\n"
     ]
    },
    {
     "name": "stdout",
     "output_type": "stream",
     "text": [
      "Extracting Citations for PMC : 5467892........ 36 citations found\nExtracting Citations for PMC : 5488396........ None found\n"
     ]
    },
    {
     "name": "stdout",
     "output_type": "stream",
     "text": [
      "Extracting Citations for PMC : 4881047........ 2 citations found\nExtracting Citations for PMC : 5763470........ None found\nExtracting Citations for PMC : 4905491........ None found\n"
     ]
    },
    {
     "name": "stdout",
     "output_type": "stream",
     "text": [
      "Extracting Citations for PMC : None........ None found\nExtracting Citations for PMC : None........ None found\nExtracting Citations for PMC : 5882888........ None found\n"
     ]
    },
    {
     "name": "stdout",
     "output_type": "stream",
     "text": [
      "Extracting Citations for PMC : 5902191........ 4 citations found\nExtracting Citation Years for PMC : 4456804\n"
     ]
    },
    {
     "name": "stdout",
     "output_type": "stream",
     "text": [
      "Extracting Citation Years for PMC : 4456804\n"
     ]
    },
    {
     "name": "stdout",
     "output_type": "stream",
     "text": [
      "Extracting Citation Years for PMC : 4243058\n"
     ]
    },
    {
     "name": "stdout",
     "output_type": "stream",
     "text": [
      "Extracting Citation Years for PMC : 4380931\n"
     ]
    },
    {
     "name": "stdout",
     "output_type": "stream",
     "text": [
      "Extracting Citation Years for PMC : 4270428\n"
     ]
    },
    {
     "name": "stdout",
     "output_type": "stream",
     "text": [
      "Extracting Citation Years for PMC : 4383998\n"
     ]
    },
    {
     "name": "stdout",
     "output_type": "stream",
     "text": [
      "Extracting Citation Years for PMC : 4607730\n"
     ]
    },
    {
     "name": "stdout",
     "output_type": "stream",
     "text": [
      "Extracting Citation Years for PMC : 4201337\n"
     ]
    },
    {
     "name": "stdout",
     "output_type": "stream",
     "text": [
      "Extracting Citation Years for PMC : 4221125\n"
     ]
    },
    {
     "name": "stdout",
     "output_type": "stream",
     "text": [
      "Extracting Citation Years for PMC : 4274604\nExtracting Citation Years for PMC : 4179751\n"
     ]
    },
    {
     "name": "stdout",
     "output_type": "stream",
     "text": [
      "Extracting Citation Years for PMC : 4156235\n"
     ]
    },
    {
     "name": "stdout",
     "output_type": "stream",
     "text": [
      "Extracting Citation Years for PMC : 4153537\n"
     ]
    },
    {
     "name": "stdout",
     "output_type": "stream",
     "text": [
      "Extracting Citation Years for PMC : 4137659\n"
     ]
    },
    {
     "name": "stdout",
     "output_type": "stream",
     "text": [
      "Extracting Citation Years for PMC : 4086130\n"
     ]
    },
    {
     "name": "stdout",
     "output_type": "stream",
     "text": [
      "Extracting Citation Years for PMC : 4108877\n"
     ]
    },
    {
     "name": "stdout",
     "output_type": "stream",
     "text": [
      "Extracting Citation Years for PMC : 3990667\n"
     ]
    },
    {
     "name": "stdout",
     "output_type": "stream",
     "text": [
      "Extracting Citation Years for PMC : 4234128\n"
     ]
    },
    {
     "name": "stdout",
     "output_type": "stream",
     "text": [
      "Extracting Citation Years for PMC : None\nExtracting Citation Years for PMC : 3771683\n"
     ]
    },
    {
     "name": "stdout",
     "output_type": "stream",
     "text": [
      "Extracting Citation Years for PMC : 3637064\n"
     ]
    },
    {
     "name": "stdout",
     "output_type": "stream",
     "text": [
      "Extracting Citation Years for PMC : 3692096\n"
     ]
    },
    {
     "name": "stdout",
     "output_type": "stream",
     "text": [
      "Extracting Citation Years for PMC : 3764016\n"
     ]
    },
    {
     "name": "stdout",
     "output_type": "stream",
     "text": [
      "Extracting Citation Years for PMC : 3609407\nExtracting Citation Years for PMC : 3615534\n"
     ]
    },
    {
     "name": "stdout",
     "output_type": "stream",
     "text": [
      "Extracting Citation Years for PMC : 3760004\n"
     ]
    },
    {
     "name": "stdout",
     "output_type": "stream",
     "text": [
      "Extracting Citation Years for PMC : 3947796\n"
     ]
    },
    {
     "name": "stdout",
     "output_type": "stream",
     "text": [
      "Extracting Citation Years for PMC : 4098832\n"
     ]
    },
    {
     "name": "stdout",
     "output_type": "stream",
     "text": [
      "Extracting Citation Years for PMC : 3589817\n"
     ]
    },
    {
     "name": "stdout",
     "output_type": "stream",
     "text": [
      "Extracting Citation Years for PMC : 3845839\n"
     ]
    },
    {
     "name": "stdout",
     "output_type": "stream",
     "text": [
      "Extracting Citation Years for PMC : 3799471\n"
     ]
    },
    {
     "name": "stdout",
     "output_type": "stream",
     "text": [
      "Extracting Citation Years for PMC : 3959726\n"
     ]
    },
    {
     "name": "stdout",
     "output_type": "stream",
     "text": [
      "Extracting Citation Years for PMC : 3569091\n"
     ]
    },
    {
     "name": "stdout",
     "output_type": "stream",
     "text": [
      "Extracting Citation Years for PMC : 3855094\n"
     ]
    },
    {
     "name": "stdout",
     "output_type": "stream",
     "text": [
      "Extracting Citation Years for PMC : 3712222\n"
     ]
    },
    {
     "name": "stdout",
     "output_type": "stream",
     "text": [
      "Extracting Citation Years for PMC : 3783590\n"
     ]
    },
    {
     "name": "stdout",
     "output_type": "stream",
     "text": [
      "Extracting Citation Years for PMC : 3782379\n"
     ]
    },
    {
     "name": "stdout",
     "output_type": "stream",
     "text": [
      "Extracting Citation Years for PMC : 3878311\n"
     ]
    },
    {
     "name": "stdout",
     "output_type": "stream",
     "text": [
      "Extracting Citation Years for PMC : 3349233\n"
     ]
    },
    {
     "name": "stdout",
     "output_type": "stream",
     "text": [
      "Extracting Citation Years for PMC : 3428019\n"
     ]
    },
    {
     "name": "stdout",
     "output_type": "stream",
     "text": [
      "Extracting Citation Years for PMC : 3498356\n"
     ]
    },
    {
     "name": "stdout",
     "output_type": "stream",
     "text": [
      "Extracting Citation Years for PMC : 3270411\n"
     ]
    },
    {
     "name": "stdout",
     "output_type": "stream",
     "text": [
      "Extracting Citation Years for PMC : None\nExtracting Citation Years for PMC : 3105758\n"
     ]
    },
    {
     "name": "stdout",
     "output_type": "stream",
     "text": [
      "Extracting Citation Years for PMC : 3465072\n"
     ]
    },
    {
     "name": "stdout",
     "output_type": "stream",
     "text": [
      "Extracting Citation Years for PMC : 4675694\nExtracting Citation Years for PMC : 4587398\n"
     ]
    },
    {
     "name": "stdout",
     "output_type": "stream",
     "text": [
      "Extracting Citation Years for PMC : 4737646\n"
     ]
    },
    {
     "name": "stdout",
     "output_type": "stream",
     "text": [
      "Extracting Citation Years for PMC : 4657038\n"
     ]
    },
    {
     "name": "stdout",
     "output_type": "stream",
     "text": [
      "Extracting Citation Years for PMC : 4965338\nExtracting Citation Years for PMC : 4707261\n"
     ]
    },
    {
     "name": "stdout",
     "output_type": "stream",
     "text": [
      "Extracting Citation Years for PMC : 4858944\n"
     ]
    },
    {
     "name": "stdout",
     "output_type": "stream",
     "text": [
      "Extracting Citation Years for PMC : 4965635\n"
     ]
    },
    {
     "name": "stdout",
     "output_type": "stream",
     "text": [
      "Extracting Citation Years for PMC : 4821530\n"
     ]
    },
    {
     "name": "stdout",
     "output_type": "stream",
     "text": [
      "Extracting Citation Years for PMC : 4461398\n"
     ]
    },
    {
     "name": "stdout",
     "output_type": "stream",
     "text": [
      "Extracting Citation Years for PMC : 3443648\n"
     ]
    },
    {
     "name": "stdout",
     "output_type": "stream",
     "text": [
      "Extracting Citation Years for PMC : 4987924\n"
     ]
    },
    {
     "name": "stdout",
     "output_type": "stream",
     "text": [
      "Extracting Citation Years for PMC : 4887336\n"
     ]
    },
    {
     "name": "stdout",
     "output_type": "stream",
     "text": [
      "Extracting Citation Years for PMC : 4857123\n"
     ]
    },
    {
     "name": "stdout",
     "output_type": "stream",
     "text": [
      "Extracting Citation Years for PMC : 3605723\n"
     ]
    },
    {
     "name": "stdout",
     "output_type": "stream",
     "text": [
      "Extracting Citation Years for PMC : 5508574\n"
     ]
    },
    {
     "name": "stdout",
     "output_type": "stream",
     "text": [
      "Extracting Citation Years for PMC : 4784899\n"
     ]
    },
    {
     "name": "stdout",
     "output_type": "stream",
     "text": [
      "Extracting Citation Years for PMC : 4856035\n"
     ]
    },
    {
     "name": "stdout",
     "output_type": "stream",
     "text": [
      "Extracting Citation Years for PMC : 4016950\nExtracting Citation Years for PMC : 3667614\n"
     ]
    },
    {
     "name": "stdout",
     "output_type": "stream",
     "text": [
      "Extracting Citation Years for PMC : 3376217\n"
     ]
    },
    {
     "name": "stdout",
     "output_type": "stream",
     "text": [
      "Extracting Citation Years for PMC : 3384541\n"
     ]
    },
    {
     "name": "stdout",
     "output_type": "stream",
     "text": [
      "Extracting Citation Years for PMC : 3322972\n"
     ]
    },
    {
     "name": "stdout",
     "output_type": "stream",
     "text": [
      "Extracting Citation Years for PMC : 3465074\n"
     ]
    },
    {
     "name": "stdout",
     "output_type": "stream",
     "text": [
      "Extracting Citation Years for PMC : 4838263\n"
     ]
    },
    {
     "name": "stdout",
     "output_type": "stream",
     "text": [
      "Extracting Citation Years for PMC : 4930834\n"
     ]
    },
    {
     "name": "stdout",
     "output_type": "stream",
     "text": [
      "Extracting Citation Years for PMC : 5389891\n"
     ]
    },
    {
     "name": "stdout",
     "output_type": "stream",
     "text": [
      "Extracting Citation Years for PMC : 4972086\n"
     ]
    },
    {
     "name": "stdout",
     "output_type": "stream",
     "text": [
      "Extracting Citation Years for PMC : 4972086\n"
     ]
    },
    {
     "name": "stdout",
     "output_type": "stream",
     "text": [
      "Extracting Citation Years for PMC : 5003654\n"
     ]
    },
    {
     "name": "stdout",
     "output_type": "stream",
     "text": [
      "Extracting Citation Years for PMC : 5209295\n"
     ]
    },
    {
     "name": "stdout",
     "output_type": "stream",
     "text": [
      "Extracting Citation Years for PMC : 4965264\n"
     ]
    },
    {
     "name": "stdout",
     "output_type": "stream",
     "text": [
      "Extracting Citation Years for PMC : 4876500\n"
     ]
    },
    {
     "name": "stdout",
     "output_type": "stream",
     "text": [
      "Extracting Citation Years for PMC : None\nExtracting Citation Years for PMC : 4855472\n"
     ]
    },
    {
     "name": "stdout",
     "output_type": "stream",
     "text": [
      "Extracting Citation Years for PMC : 5005272\n"
     ]
    },
    {
     "name": "stdout",
     "output_type": "stream",
     "text": [
      "Extracting Citation Years for PMC : 5053656\nExtracting Citation Years for PMC : 4908320\n"
     ]
    },
    {
     "name": "stdout",
     "output_type": "stream",
     "text": [
      "Extracting Citation Years for PMC : 4625862\n"
     ]
    },
    {
     "name": "stdout",
     "output_type": "stream",
     "text": [
      "Extracting Citation Years for PMC : None\nExtracting Citation Years for PMC : 4333019\n"
     ]
    },
    {
     "name": "stdout",
     "output_type": "stream",
     "text": [
      "Extracting Citation Years for PMC : 4103865\n"
     ]
    },
    {
     "name": "stdout",
     "output_type": "stream",
     "text": [
      "Extracting Citation Years for PMC : 4987651\n"
     ]
    },
    {
     "name": "stdout",
     "output_type": "stream",
     "text": [
      "Extracting Citation Years for PMC : 5001780\n"
     ]
    },
    {
     "name": "stdout",
     "output_type": "stream",
     "text": [
      "Extracting Citation Years for PMC : 5036860\n"
     ]
    },
    {
     "name": "stdout",
     "output_type": "stream",
     "text": [
      "Extracting Citation Years for PMC : 5052684\n"
     ]
    },
    {
     "name": "stdout",
     "output_type": "stream",
     "text": [
      "Extracting Citation Years for PMC : None\nExtracting Citation Years for PMC : 5342018\n"
     ]
    },
    {
     "name": "stdout",
     "output_type": "stream",
     "text": [
      "Extracting Citation Years for PMC : None\nExtracting Citation Years for PMC : 5102256\n"
     ]
    },
    {
     "name": "stdout",
     "output_type": "stream",
     "text": [
      "Extracting Citation Years for PMC : None\nExtracting Citation Years for PMC : 4916865\nExtracting Citation Years for PMC : 4457442\n"
     ]
    },
    {
     "name": "stdout",
     "output_type": "stream",
     "text": [
      "Extracting Citation Years for PMC : 4868344\n"
     ]
    },
    {
     "name": "stdout",
     "output_type": "stream",
     "text": [
      "Extracting Citation Years for PMC : None\nExtracting Citation Years for PMC : None\nExtracting Citation Years for PMC : 5111283\n"
     ]
    },
    {
     "name": "stdout",
     "output_type": "stream",
     "text": [
      "Extracting Citation Years for PMC : 5192966\nExtracting Citation Years for PMC : 5372219\n"
     ]
    },
    {
     "name": "stdout",
     "output_type": "stream",
     "text": [
      "Extracting Citation Years for PMC : None\nExtracting Citation Years for PMC : 5138863\n"
     ]
    },
    {
     "name": "stdout",
     "output_type": "stream",
     "text": [
      "Extracting Citation Years for PMC : 4800742\n"
     ]
    },
    {
     "name": "stdout",
     "output_type": "stream",
     "text": [
      "Extracting Citation Years for PMC : None\nExtracting Citation Years for PMC : 5952941\n"
     ]
    },
    {
     "name": "stdout",
     "output_type": "stream",
     "text": [
      "Extracting Citation Years for PMC : 5223214\n"
     ]
    },
    {
     "name": "stdout",
     "output_type": "stream",
     "text": [
      "Extracting Citation Years for PMC : 4976700\n"
     ]
    },
    {
     "name": "stdout",
     "output_type": "stream",
     "text": [
      "Extracting Citation Years for PMC : 4919895\n"
     ]
    },
    {
     "name": "stdout",
     "output_type": "stream",
     "text": [
      "Extracting Citation Years for PMC : None\nExtracting Citation Years for PMC : None\nExtracting Citation Years for PMC : 5248573\n"
     ]
    },
    {
     "name": "stdout",
     "output_type": "stream",
     "text": [
      "Extracting Citation Years for PMC : 5479408\nExtracting Citation Years for PMC : 4829466\n"
     ]
    },
    {
     "name": "stdout",
     "output_type": "stream",
     "text": [
      "Extracting Citation Years for PMC : 5300121\nExtracting Citation Years for PMC : 4783079\n"
     ]
    },
    {
     "name": "stdout",
     "output_type": "stream",
     "text": [
      "Extracting Citation Years for PMC : None\nExtracting Citation Years for PMC : 5349314\nExtracting Citation Years for PMC : 5332957\nExtracting Citation Years for PMC : 5568558\n"
     ]
    },
    {
     "name": "stdout",
     "output_type": "stream",
     "text": [
      "Extracting Citation Years for PMC : None\nExtracting Citation Years for PMC : 5545976\n"
     ]
    },
    {
     "name": "stdout",
     "output_type": "stream",
     "text": [
      "Extracting Citation Years for PMC : 5450082\n"
     ]
    },
    {
     "name": "stdout",
     "output_type": "stream",
     "text": [
      "Extracting Citation Years for PMC : None\nExtracting Citation Years for PMC : 5646270\n"
     ]
    },
    {
     "name": "stdout",
     "output_type": "stream",
     "text": [
      "Extracting Citation Years for PMC : 5159530\nExtracting Citation Years for PMC : 5610046\n"
     ]
    },
    {
     "name": "stdout",
     "output_type": "stream",
     "text": [
      "Extracting Citation Years for PMC : 5510182\n"
     ]
    },
    {
     "name": "stdout",
     "output_type": "stream",
     "text": [
      "Extracting Citation Years for PMC : None\nExtracting Citation Years for PMC : 5541064\nExtracting Citation Years for PMC : 5536358\nExtracting Citation Years for PMC : 5599787\nExtracting Citation Years for PMC : 6020840\n"
     ]
    },
    {
     "name": "stdout",
     "output_type": "stream",
     "text": [
      "Extracting Citation Years for PMC : None\nExtracting Citation Years for PMC : None\nExtracting Citation Years for PMC : 5543336\nExtracting Citation Years for PMC : 5193106\n"
     ]
    },
    {
     "name": "stdout",
     "output_type": "stream",
     "text": [
      "Extracting Citation Years for PMC : 5355998\nExtracting Citation Years for PMC : 5629618\nExtracting Citation Years for PMC : 5634325\n"
     ]
    },
    {
     "name": "stdout",
     "output_type": "stream",
     "text": [
      "Extracting Citation Years for PMC : 5632288\nExtracting Citation Years for PMC : 5579542\nExtracting Citation Years for PMC : 5635550\n"
     ]
    },
    {
     "name": "stdout",
     "output_type": "stream",
     "text": [
      "Extracting Citation Years for PMC : 5610318\nExtracting Citation Years for PMC : 5668135\n"
     ]
    },
    {
     "name": "stdout",
     "output_type": "stream",
     "text": [
      "Extracting Citation Years for PMC : 5729909\n"
     ]
    },
    {
     "name": "stdout",
     "output_type": "stream",
     "text": [
      "Extracting Citation Years for PMC : 5538315\n"
     ]
    },
    {
     "name": "stdout",
     "output_type": "stream",
     "text": [
      "Extracting Citation Years for PMC : None\nExtracting Citation Years for PMC : 5287226\nExtracting Citation Years for PMC : None\nExtracting Citation Years for PMC : 5482631\n"
     ]
    },
    {
     "name": "stdout",
     "output_type": "stream",
     "text": [
      "Extracting Citation Years for PMC : 5493619\nExtracting Citation Years for PMC : 5662764\n"
     ]
    },
    {
     "name": "stdout",
     "output_type": "stream",
     "text": [
      "Extracting Citation Years for PMC : 5655815\n"
     ]
    },
    {
     "name": "stdout",
     "output_type": "stream",
     "text": [
      "Extracting Citation Years for PMC : 5674849\nExtracting Citation Years for PMC : 5799026\n"
     ]
    },
    {
     "name": "stdout",
     "output_type": "stream",
     "text": [
      "Extracting Citation Years for PMC : 5990023\n"
     ]
    },
    {
     "name": "stdout",
     "output_type": "stream",
     "text": [
      "Extracting Citation Years for PMC : 5753597\nExtracting Citation Years for PMC : 5766255\nExtracting Citation Years for PMC : 5828545\nExtracting Citation Years for PMC : None\nExtracting Citation Years for PMC : 5869547\nExtracting Citation Years for PMC : None\nExtracting Citation Years for PMC : 5827688\nExtracting Citation Years for PMC : None\nExtracting Citation Years for PMC : 5828078\nExtracting Citation Years for PMC : 5951639\n"
     ]
    },
    {
     "name": "stdout",
     "output_type": "stream",
     "text": [
      "Extracting Citation Years for PMC : 5893633\n"
     ]
    },
    {
     "name": "stdout",
     "output_type": "stream",
     "text": [
      "Extracting Citation Years for PMC : None\nExtracting Citation Years for PMC : 5927625\nExtracting Citation Years for PMC : None\nExtracting Citation Years for PMC : 6030863\nExtracting Citation Years for PMC : None\nExtracting Citation Years for PMC : 6007090\nExtracting Citation Years for PMC : 5737394\nExtracting Citation Years for PMC : 6044382\nExtracting Citation Years for PMC : 6022536\nExtracting Citation Years for PMC : 6063738\nExtracting Citation Years for PMC : 6068465\nExtracting Citation Years for PMC : 5998894\nExtracting Citation Years for PMC : 5998894\nExtracting Citation Years for PMC : 6030474\nExtracting Citation Years for PMC : 5916369\nExtracting Citation Years for PMC : 5962550\nExtracting Citation Years for PMC : 5974511\n"
     ]
    },
    {
     "name": "stdout",
     "output_type": "stream",
     "text": [
      "Extracting Citation Years for PMC : 5860760\nExtracting Citation Years for PMC : 5838628\nExtracting Citation Years for PMC : 5760621\nExtracting Citation Years for PMC : 5638208\nExtracting Citation Years for PMC : 5502825\n"
     ]
    },
    {
     "name": "stdout",
     "output_type": "stream",
     "text": [
      "Extracting Citation Years for PMC : 5046221\n"
     ]
    },
    {
     "name": "stdout",
     "output_type": "stream",
     "text": [
      "Extracting Citation Years for PMC : 5181570\n"
     ]
    },
    {
     "name": "stdout",
     "output_type": "stream",
     "text": [
      "Extracting Citation Years for PMC : 4834551\n"
     ]
    },
    {
     "name": "stdout",
     "output_type": "stream",
     "text": [
      "Extracting Citation Years for PMC : 5029662\n"
     ]
    },
    {
     "name": "stdout",
     "output_type": "stream",
     "text": [
      "Extracting Citation Years for PMC : 4689484\n"
     ]
    },
    {
     "name": "stdout",
     "output_type": "stream",
     "text": [
      "Extracting Citation Years for PMC : 4600621\n"
     ]
    },
    {
     "name": "stdout",
     "output_type": "stream",
     "text": [
      "Extracting Citation Years for PMC : 4374785\n"
     ]
    },
    {
     "name": "stdout",
     "output_type": "stream",
     "text": [
      "Extracting Citation Years for PMC : 4826467\n"
     ]
    },
    {
     "name": "stdout",
     "output_type": "stream",
     "text": [
      "Extracting Citation Years for PMC : 4706788\n"
     ]
    },
    {
     "name": "stdout",
     "output_type": "stream",
     "text": [
      "Extracting Citation Years for PMC : 4701889\n"
     ]
    },
    {
     "name": "stdout",
     "output_type": "stream",
     "text": [
      "Extracting Citation Years for PMC : 4573840\n"
     ]
    },
    {
     "name": "stdout",
     "output_type": "stream",
     "text": [
      "Extracting Citation Years for PMC : 4798961\n"
     ]
    },
    {
     "name": "stdout",
     "output_type": "stream",
     "text": [
      "Extracting Citation Years for PMC : 5864870\nExtracting Citation Years for PMC : None\nExtracting Citation Years for PMC : None\nExtracting Citation Years for PMC : 5487293\n"
     ]
    },
    {
     "name": "stdout",
     "output_type": "stream",
     "text": [
      "Extracting Citation Years for PMC : 5650527\nExtracting Citation Years for PMC : 5636275\nExtracting Citation Years for PMC : 5467892\n"
     ]
    },
    {
     "name": "stdout",
     "output_type": "stream",
     "text": [
      "Extracting Citation Years for PMC : 5488396\nExtracting Citation Years for PMC : 4881047\n"
     ]
    },
    {
     "name": "stdout",
     "output_type": "stream",
     "text": [
      "Extracting Citation Years for PMC : 5763470\nExtracting Citation Years for PMC : 4905491\nExtracting Citation Years for PMC : None\nExtracting Citation Years for PMC : None\nExtracting Citation Years for PMC : 5882888\nExtracting Citation Years for PMC : 5902191\n"
     ]
    }
   ],
   "source": [
    "pubmed_url = 'http://eutils.ncbi.nlm.nih.gov/entrez/eutils/elink.fcgi?'+\\\n",
    "             'dbfrom=pubmed&linkname=pmc_pmc_citedby&id='\n",
    "\n",
    "tool = 'MaayanLab'\n",
    "email = 'brian_schilder@alumni.brown.edu' \n",
    "# You can register an API in your NCBI account settings to submit up to 10 requests/second\n",
    "# ,instead of the default 3 requests/second\n",
    "APIkey = 'ff789492667dabdb0c98afa776eb2090cc08'\n",
    "PMClist = pubs_extended['PMCID'].str.strip('PMC').str.strip(' ').astype(str)\n",
    "PMClist = PMClist[PMClist!='nan']\n",
    "urls = pubmed_url+PMClist +'&tool='+tool+'&email='+email+'&api_key='+APIkey\n",
    "url=urls[0]\n",
    "\n",
    "import xmltodict, time\n",
    "from requests import get\n",
    "\n",
    "import urllib.request, json, time \n",
    "def getCitations(url): \n",
    "    PMC = url.split('&id=')[1].split(\"&tool\")[0] \n",
    "    response = get(str(url))\n",
    "    citDict = xmltodict.parse(response.content)\n",
    "    try:\n",
    "        citationInfo = citDict['eLinkResult']['LinkSet']['LinkSetDb']['Link']\n",
    "        allCitations = [x['Id'] for x in citationInfo ] \n",
    "        pmcList = list(set(allCitations)) # Get unique citations\n",
    "        status = str(len(pmcList))+' citations found'\n",
    "        # Can only submit up to 10 requests/second\n",
    "        time.sleep(.11)\n",
    "    except:\n",
    "        pmcList = [] \n",
    "        status = 'None found'\n",
    "    print(\"Extracting Citations for PMC : \"+PMC+\"........ \"+status)\n",
    "    return pmcList\n",
    "\n",
    "\n",
    "res = list(map(getCitations, urls))\n",
    "results = dict(zip(PMClist, res))\n",
    "\n",
    "\n",
    "\n",
    "\n",
    "\n",
    "# Get the year each paper cited the LINCS paper\n",
    "## Documentation: https://www.ncbi.nlm.nih.gov/pmc/tools/get-metadata/\n",
    "pubmed_url2 =  'https://eutils.ncbi.nlm.nih.gov/entrez/eutils/esummary.fcgi?'+\\\n",
    "               'db=pmc&retmode=json&id='\n",
    "import urllib.request, json, time \n",
    "def getYearPublished(url):\n",
    "    PMC = url.split('&id=')[1].split(\"&tool\")[0] \n",
    "    try:\n",
    "        with urllib.request.urlopen(url) as URL:\n",
    "            citDict = json.loads(URL.read().decode()) \n",
    "        \n",
    "            pubDate = citDict['result'][PMC]['epubdate']\n",
    "            year = int(pubDate.split(\" \")[0])\n",
    "            status = str('Citation created : '+str(year)) \n",
    "            # Can only submit up to 10 requests/second\n",
    "            time.sleep(.11)\n",
    "    except:\n",
    "        year = 0 \n",
    "        status = 'None found'\n",
    "    # print(\"Extracting Citation Years for PMC : \"+PMC+\"........ \"+status)\n",
    "    return year\n",
    "\n",
    "citationYears={}\n",
    "for pmc in list(PMClist): \n",
    "    print(\"Extracting Citation Years for PMC : \"+pmc)\n",
    "    PMCs = pd.Series(results[pmc])\n",
    "    if len(PMCs)>0:\n",
    "        urls_citations = pubmed_url2+ PMCs +'&tool='+tool+'&email='+email+'&api_key='+APIkey \n",
    "        results_years = list(map(getYearPublished, urls_citations))\n",
    "        citationYears[pmc] = results_years\n",
    "\n",
    "\n",
    "# ***** SAVE ******* #\n",
    "# Add number of citations\n",
    "results_df = pd.DataFrame(pd.Series(results,name='citations')  )\n",
    "results_df['n_citations'] = results_df['citations'].apply(len)\n",
    "results_df['pmc_id'] = 'PMC'+results_df.index \n",
    "# results_df.to_csv('citations.csv')\n",
    "import pickle\n",
    "pickle.dump( results_df, open( \"citations.p\", \"wb\" ) )\n",
    "\n",
    "# Add years of each citation\n",
    "citationYears_df = pd.DataFrame(pd.Series(citationYears, name='citation_years'))\n",
    "citationYears_df['pmc_id'] = 'PMC'+citationYears_df.index\n",
    "# citationYears_df.to_csv('citation_years.csv')\n",
    "pickle.dump( results_df, open( \"citation_years.p\", \"wb\" ) )\n",
    "\n",
    " "
   ]
  },
  {
   "cell_type": "code",
   "execution_count": 43,
   "metadata": {},
   "outputs": [],
   "source": [
    "# ***** SAVE ******* #\n",
    "# Add number of citations\n",
    "results_df = pd.DataFrame(pd.Series(results,name='citations')  )\n",
    "results_df['n_citations'] = results_df['citations'].apply(len)\n",
    "results_df['PMCID'] = 'PMC'+results_df.index \n",
    "import pickle\n",
    "pickle.dump( results_df, open( \"citations.p\", \"wb\" ) )\n",
    "\n",
    "# Add years of each citation\n",
    "citationYears_df = pd.DataFrame(pd.Series(citationYears, name='citation_years'))\n",
    "citationYears_df['PMCID'] = 'PMC'+citationYears_df.index\n",
    "pickle.dump( citationYears_df, open( \"citation_years.p\", \"wb\" ) )\n",
    "\n"
   ]
  },
  {
   "cell_type": "markdown",
   "metadata": {},
   "source": [
    "### Get publications by API using grant numbers"
   ]
  },
  {
   "cell_type": "code",
   "execution_count": 44,
   "metadata": {},
   "outputs": [],
   "source": [
    "# pubmed_url = 'http://eutils.ncbi.nlm.nih.gov/entrez/eutils/esearch.fcgi?'+\\ \n",
    "#             'db=pubmed&term=U54-NS091046[Grant+Number]'\n",
    "# #esearch\n",
    "# #&usehistory=y\n",
    "# \n",
    "# tool = 'MaayanLab'\n",
    "# email = 'brian_schilder@alumni.brown.edu' \n",
    "# # You can register an API in your NCBI account settings to submit up to 10 requests/second\n",
    "# # ,instead of the default 3 requests/second\n",
    "# APIkey = 'ff789492667dabdb0c98afa776eb2090cc08' \n",
    "# granIDs = pd.read_csv('LINCS_centers_by_grant.csv')\n",
    "# urls = pubmed_url+granIDs['grant'] +'&tool='+tool+'&email='+email+'&api_key='+APIkey\n",
    "# url=urls[0]\n",
    "# \n",
    "# from requests import get\n",
    "# import xmltodict   \n",
    "# import time\n",
    "# citations={} \n",
    "# def getCitations(url): \n",
    "#     PMC = url.split('&id=')[1].split(\"&tool\")[0] \n",
    "#     response = get(str(url))\n",
    "#     citDict = xmltodict.parse(response.content)\n",
    "#     try:\n",
    "#         citationInfo = citDict['eLinkResult']['LinkSet']['LinkSetDb']['Link']\n",
    "#         allCitations = [x['Id'] for x in citationInfo ] \n",
    "#         citations[PMC] = len(set(allCitations)) # Get unique citations\n",
    "#         status = str(len(set(allCitations)))+' citations found'\n",
    "#         # Can only submit up to 10 requests/second\n",
    "#         time.sleep(.11)\n",
    "#     except:\n",
    "#         citations[PMC] = 0 \n",
    "#         status = 'None found'\n",
    "#     print(\"Extracting Citations for PMC : \"+PMC+\"........ \"+status)\n",
    "#     return citations\n",
    "# \n",
    "# res = map(getCitations, urls)\n",
    "# results = list(res) \n",
    "# results_df = pd.DataFrame(pd.Series(results[0],name='n_citations')  )  \n",
    "# results_df['pmc_id'] = 'PMC'+results_df.index  \n",
    "# #  "
   ]
  },
  {
   "cell_type": "markdown",
   "metadata": {},
   "source": [
    "### Assign Centers"
   ]
  },
  {
   "cell_type": "code",
   "execution_count": 48,
   "metadata": {},
   "outputs": [],
   "source": [
    "# Import saved PubMed APi results\n",
    "import pickle\n",
    "results_df = pickle.load( open( \"citations.p\", \"rb\" ) )\n",
    "citationYears_df = pickle.load( open( \"citation_years.p\", \"rb\" ) )\n",
    " \n",
    "\n",
    "pubs_extended = pubs_extended.merge(results_df, on='PMCID',  how='outer') \n",
    "pubs_extended = pubs_extended.merge(citationYears_df, on='PMCID',  how='outer') \n",
    "pubs_extended.iloc[0]\n",
    "len(pubs_extended)\n",
    "pubs_extended.head()\n",
    "\n",
    "\n",
    "Centers = {\"DCIC\":{\"PI_list\":[\"Ma'ayan\",\"Medvedovic\",\"Schurer\",\"Vidovic\",\"Stathias\",\"Pilarczyk\",\"Jagodnik\"],'isIncluded':[]},\n",
    "       \"Drug Toxicity\":{\"PI_list\":[\"Iyengar\",\"Birtwistle\",\"Sobie\"],'isIncluded':[]},\n",
    "       \"Proteomics\":{\"PI_list\":[\"Jaffe\",\"Subramanian\"],'isIncluded':[]},\n",
    "       \"Microenvironment\":{\"PI_list\":[\"Gray\",\"Heiser\",\"Korkola\",\"Mills\"],'isIncluded':[]},\n",
    "        \"HMS\":{\"PI_list\":[\"Sorger\"],'isIncluded':[]},\n",
    "        \"Transcriptomics\":{\"PI_list\":[\"Golub\"],'isIncluded':[]},\n",
    "       \"NeuroLINCS\":{\"PI_list\":[\"Thompson\",\"Finkbeiner\",\"Fraenkel\",\"Rothstein\",\"Svendsen\"],'isIncluded':[]}\n",
    "       }\n",
    "# Check authors in each publication for people affiliated with each center\n",
    "for i,row in pubs_extended.iterrows(): \n",
    "    for center in Centers: \n",
    "        try:\n",
    "            PI_list = Centers[center]['PI_list']\n",
    "            author_list = row.loc['authors'].split(\",\")  \n",
    "            author_list = [x.strip(' ').split(' ')[0] for x in author_list] \n",
    "            overlap = set(PI_list).intersection(author_list)\n",
    "            if len(overlap)>=1:\n",
    "                Centers[center]['isIncluded'] += [1]\n",
    "            else:\n",
    "                Centers[center]['isIncluded'] += [0]\n",
    "        except:\n",
    "            Centers[center]['isIncluded'] += [0]\n",
    "for center in Centers:\n",
    "    pubs_extended[center] = Centers[center]['isIncluded']\n",
    "\n",
    "# Save combine table\n",
    "pubs_extended.sort_values(['center_pub','year_published'], ascending=[False, True], inplace=True)\n",
    "pubs_extended.to_csv('publications_extended.csv',index=False)\n",
    "#  #Sch√ºrer SC\n",
    "\n",
    "internal = pubs_extended.loc[pubs_extended['center_pub']==1,:]\n",
    "external = pubs_extended.loc[pubs_extended['center_pub']==0,:]  \n"
   ]
  },
  {
   "cell_type": "markdown",
   "metadata": {},
   "source": [
    "## Internal LINCS Publications"
   ]
  },
  {
   "cell_type": "markdown",
   "metadata": {},
   "source": [
    "### Aggregated Across Centers"
   ]
  },
  {
   "cell_type": "code",
   "execution_count": 49,
   "metadata": {},
   "outputs": [
    {
     "data": {
      "image/png": "[encoded data removed]",
      "text/plain": [
       "<Figure size 648x504 with 1 Axes>"
      ]
     },
     "metadata": {},
     "output_type": "display_data"
    }
   ],
   "source": [
    "plt.figure(figsize=(9,7)) # Default 8,6 #, dpi=100\n",
    "years = internal.dropna(subset=['year_published'])['year_published'].astype(int)\n",
    "years = years[years>1]\n",
    "sn.countplot( years, color='steelblue')\n",
    "plt.title('Internal LINCS Publications : All Centers\\n Total Publications = '+\n",
    "          str(len( internal )))\n",
    "plt.xlabel('Year')\n",
    "plt.ylabel('Publication Count');\n",
    "# plt.ylim(0,50);"
   ]
  },
  {
   "cell_type": "markdown",
   "metadata": {},
   "source": [
    "### Separated By Center"
   ]
  },
  {
   "cell_type": "code",
   "execution_count": 51,
   "metadata": {},
   "outputs": [
    {
     "data": {
      "image/png": "[encoded data removed]",
      "text/plain": [
       "<Figure size 900x700 with 1 Axes>"
      ]
     },
     "metadata": {},
     "output_type": "display_data"
    }
   ],
   "source": [
    "plt.figure(figsize=(9,7), dpi=100) # Default 8,6 #, dpi=100\n",
    "\n",
    "internalByCenter = {}\n",
    "for center in Centers: \n",
    "    internalByCenter[center] = internal.groupby('year_published')[center].sum()\n",
    "    \n",
    "internalByCenter = pd.DataFrame(internalByCenter).stack().reset_index()\n",
    "internalByCenter.columns = ['year_published', 'Center', 'Count']\n",
    "internalByCenter['year_published'] = internalByCenter['year_published'].astype(int)\n",
    "sn.barplot(data=internalByCenter, x='year_published',y='Count',hue='Center')\n",
    "plt.title('Internal LINCS Publications : Each Center\\nTotal Publications = '\n",
    "          +str(len( internal ) ) )\n",
    "plt.xlabel('Year Published')\n",
    "plt.ylabel('Publication Count');\n",
    "# plt.ylim(0,10);\n"
   ]
  },
  {
   "cell_type": "markdown",
   "metadata": {},
   "source": [
    "## Internal LINCS CITATIONS"
   ]
  },
  {
   "cell_type": "markdown",
   "metadata": {},
   "source": [
    "### Aggregated Across Centers"
   ]
  },
  {
   "cell_type": "code",
   "execution_count": 52,
   "metadata": {},
   "outputs": [
    {
     "data": {
      "image/png": "[encoded data removed]",
      "text/plain": [
       "<Figure size 648x504 with 1 Axes>"
      ]
     },
     "metadata": {},
     "output_type": "display_data"
    }
   ],
   "source": [
    "plt.figure(figsize=(9,7)) # Default 8,6 #, dpi=100  \n",
    "internal['year_published'] = internal['year_published'].astype(str)\n",
    "\n",
    "from collections import Counter \n",
    "centerCounter={}     \n",
    "for center in Centers:\n",
    "    sub = internal.loc[internal[center]==1]\n",
    "    yearCounter={}\n",
    "    counter=Counter()\n",
    "    for i,row in sub.iterrows(): \n",
    "        try:\n",
    "            counter += Counter( row['citation_years'] )  \n",
    "        except:\n",
    "            counter += Counter()\n",
    "    centerCounter[center]=counter\n",
    "    \n",
    "centerCounter = pd.DataFrame(centerCounter).fillna(0).stack().reset_index() \n",
    "centerCounter.rename(columns={'level_0':'year_cited','level_1':'LINCS Center',0:'count'}, inplace=True)\n",
    " \n",
    "yearCounter_sum = centerCounter.groupby(['year_cited'])['count'].sum().reset_index()\n",
    "yearCounter_sum = yearCounter_sum[yearCounter_sum['year_cited']!=0]\n",
    "   \n",
    "sn.barplot(data=yearCounter_sum, x='year_cited', y='count', color='steelblue')\n",
    "plt.title('Internal LINCS Publication Citations : All Centers\\n Total Citations = '+\\\n",
    "          str( int(sum(yearCounter_sum['count'])) ))\n",
    "plt.xlabel('Year Cited')\n",
    "plt.ylabel('Citation Count'); \n",
    "# plt.ylim(0,50);"
   ]
  },
  {
   "cell_type": "markdown",
   "metadata": {},
   "source": [
    "### Separated By Center"
   ]
  },
  {
   "cell_type": "code",
   "execution_count": 53,
   "metadata": {},
   "outputs": [
    {
     "data": {
      "image/png": "[encoded data removed]",
      "text/plain": [
       "<Figure size 900x700 with 1 Axes>"
      ]
     },
     "metadata": {},
     "output_type": "display_data"
    }
   ],
   "source": [
    "plt.figure(figsize=(9,7), dpi=100) # Default 8,6 #, dpi=100 \n",
    "\n",
    "yearCounter_sum = centerCounter.groupby(['year_cited','LINCS Center'])['count'].sum().reset_index()\n",
    "yearCounter_sum = yearCounter_sum[yearCounter_sum['year_cited']!=0]\n",
    "\n",
    "sn.barplot(data=yearCounter_sum, x='year_cited', y='count', hue='LINCS Center')\n",
    "plt.title('Internal LINCS Publication Citations : All Centers\\n Total Citations = '+\\\n",
    "          str( int(sum(yearCounter_sum['count'])) ))\n",
    "plt.xlabel('Year Cited')\n",
    "plt.ylabel('Citation Count');"
   ]
  },
  {
   "cell_type": "markdown",
   "metadata": {},
   "source": [
    "## External LINCS Publications"
   ]
  },
  {
   "cell_type": "code",
   "execution_count": 54,
   "metadata": {},
   "outputs": [
    {
     "data": {
      "image/png": "[encoded data removed]",
      "text/plain": [
       "<Figure size 648x504 with 1 Axes>"
      ]
     },
     "metadata": {},
     "output_type": "display_data"
    }
   ],
   "source": [
    "plt.figure(figsize=(9,7)) # Default 8,6 #, dpi=100\n",
    "\n",
    "years = external.dropna(subset=['year_published'])['year_published'].astype(int)\n",
    "years = years[years>1]\n",
    "sn.countplot( years, color='turquoise')\n",
    "plt.title('External LINCS Publications\\n Total Publications = '+str(len(years)))\n",
    "plt.xlabel('Year Published')\n",
    "plt.ylabel('Publication Count');\n",
    "# plt.ylim(0,50);"
   ]
  },
  {
   "cell_type": "markdown",
   "metadata": {},
   "source": [
    "## External LINCS Citations"
   ]
  },
  {
   "cell_type": "code",
   "execution_count": 55,
   "metadata": {},
   "outputs": [
    {
     "data": {
      "image/png": "[encoded data removed]",
      "text/plain": [
       "<Figure size 648x504 with 1 Axes>"
      ]
     },
     "metadata": {},
     "output_type": "display_data"
    }
   ],
   "source": [
    "plt.figure(figsize=(9,7)) # Default 8,6 #, dpi=100 \n",
    "external['n_citations'] = external['n_citations'].fillna(0)\n",
    "external['year_published'] = external.loc[:,'year_published'].astype(int)\n",
    "\n",
    "grouped = external.groupby('year_published')['n_citations'].sum().reset_index()\n",
    "\n",
    "sn.barplot(data=grouped, x='year_published', y='n_citations',  color='turquoise')\n",
    "plt.title('External LINCS Publication Citations\\n Total Citations = '+\\\n",
    "          str( int(sum(external['n_citations'])) ))\n",
    "plt.xlabel('Year Cited')\n",
    "plt.ylabel('Citation Count'); \n",
    "# plt.ylim(0,50);"
   ]
  },
  {
   "cell_type": "code",
   "execution_count": null,
   "metadata": {},
   "outputs": [],
   "source": []
  }
 ],
 "metadata": {},
 "nbformat": 4,
 "nbformat_minor": 0
}
